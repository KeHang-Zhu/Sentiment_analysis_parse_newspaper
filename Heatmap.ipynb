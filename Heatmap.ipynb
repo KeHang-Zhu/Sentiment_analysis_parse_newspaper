{
  "nbformat": 4,
  "nbformat_minor": 0,
  "metadata": {
    "colab": {
      "provenance": [],
      "authorship_tag": "ABX9TyObBryoul0x3HIkdnoqIhOJ",
      "include_colab_link": true
    },
    "kernelspec": {
      "name": "python3",
      "display_name": "Python 3"
    },
    "language_info": {
      "name": "python"
    }
  },
  "cells": [
    {
      "cell_type": "markdown",
      "metadata": {
        "id": "view-in-github",
        "colab_type": "text"
      },
      "source": [
        "<a href=\"https://colab.research.google.com/github/KeHang-Zhu/panic_sprea_Depression_1920_1940/blob/main/Heatmap.ipynb\" target=\"_parent\"><img src=\"https://colab.research.google.com/assets/colab-badge.svg\" alt=\"Open In Colab\"/></a>"
      ]
    },
    {
      "cell_type": "code",
      "source": [
        "!pip install geopandas"
      ],
      "metadata": {
        "colab": {
          "base_uri": "https://localhost:8080/"
        },
        "id": "L5Y7GSbhSzTE",
        "outputId": "f4c6662f-223c-4571-be6d-60b32f240a9c"
      },
      "execution_count": null,
      "outputs": [
        {
          "output_type": "stream",
          "name": "stdout",
          "text": [
            "Looking in indexes: https://pypi.org/simple, https://us-python.pkg.dev/colab-wheels/public/simple/\n",
            "Collecting geopandas\n",
            "  Downloading geopandas-0.12.2-py3-none-any.whl (1.1 MB)\n",
            "\u001b[2K     \u001b[90m━━━━━━━━━━━━━━━━━━━━━━━━━━━━━━━━━━━━━━━━\u001b[0m \u001b[32m1.1/1.1 MB\u001b[0m \u001b[31m21.9 MB/s\u001b[0m eta \u001b[36m0:00:00\u001b[0m\n",
            "\u001b[?25hCollecting pyproj>=2.6.1.post1\n",
            "  Downloading pyproj-3.5.0-cp39-cp39-manylinux_2_17_x86_64.manylinux2014_x86_64.whl (7.8 MB)\n",
            "\u001b[2K     \u001b[90m━━━━━━━━━━━━━━━━━━━━━━━━━━━━━━━━━━━━━━━━\u001b[0m \u001b[32m7.8/7.8 MB\u001b[0m \u001b[31m59.8 MB/s\u001b[0m eta \u001b[36m0:00:00\u001b[0m\n",
            "\u001b[?25hCollecting fiona>=1.8\n",
            "  Downloading Fiona-1.9.3-cp39-cp39-manylinux_2_17_x86_64.manylinux2014_x86_64.whl (16.1 MB)\n",
            "\u001b[2K     \u001b[90m━━━━━━━━━━━━━━━━━━━━━━━━━━━━━━━━━━━━━━━━\u001b[0m \u001b[32m16.1/16.1 MB\u001b[0m \u001b[31m55.5 MB/s\u001b[0m eta \u001b[36m0:00:00\u001b[0m\n",
            "\u001b[?25hRequirement already satisfied: pandas>=1.0.0 in /usr/local/lib/python3.9/dist-packages (from geopandas) (1.5.3)\n",
            "Requirement already satisfied: shapely>=1.7 in /usr/local/lib/python3.9/dist-packages (from geopandas) (2.0.1)\n",
            "Requirement already satisfied: packaging in /usr/local/lib/python3.9/dist-packages (from geopandas) (23.1)\n",
            "Requirement already satisfied: certifi in /usr/local/lib/python3.9/dist-packages (from fiona>=1.8->geopandas) (2022.12.7)\n",
            "Collecting cligj>=0.5\n",
            "  Downloading cligj-0.7.2-py3-none-any.whl (7.1 kB)\n",
            "Collecting munch>=2.3.2\n",
            "  Downloading munch-2.5.0-py2.py3-none-any.whl (10 kB)\n",
            "Requirement already satisfied: attrs>=19.2.0 in /usr/local/lib/python3.9/dist-packages (from fiona>=1.8->geopandas) (23.1.0)\n",
            "Requirement already satisfied: importlib-metadata in /usr/local/lib/python3.9/dist-packages (from fiona>=1.8->geopandas) (6.6.0)\n",
            "Requirement already satisfied: click~=8.0 in /usr/local/lib/python3.9/dist-packages (from fiona>=1.8->geopandas) (8.1.3)\n",
            "Collecting click-plugins>=1.0\n",
            "  Downloading click_plugins-1.1.1-py2.py3-none-any.whl (7.5 kB)\n",
            "Requirement already satisfied: python-dateutil>=2.8.1 in /usr/local/lib/python3.9/dist-packages (from pandas>=1.0.0->geopandas) (2.8.2)\n",
            "Requirement already satisfied: numpy>=1.20.3 in /usr/local/lib/python3.9/dist-packages (from pandas>=1.0.0->geopandas) (1.22.4)\n",
            "Requirement already satisfied: pytz>=2020.1 in /usr/local/lib/python3.9/dist-packages (from pandas>=1.0.0->geopandas) (2022.7.1)\n",
            "Requirement already satisfied: six in /usr/local/lib/python3.9/dist-packages (from munch>=2.3.2->fiona>=1.8->geopandas) (1.16.0)\n",
            "Requirement already satisfied: zipp>=0.5 in /usr/local/lib/python3.9/dist-packages (from importlib-metadata->fiona>=1.8->geopandas) (3.15.0)\n",
            "Installing collected packages: pyproj, munch, cligj, click-plugins, fiona, geopandas\n",
            "Successfully installed click-plugins-1.1.1 cligj-0.7.2 fiona-1.9.3 geopandas-0.12.2 munch-2.5.0 pyproj-3.5.0\n"
          ]
        }
      ]
    },
    {
      "cell_type": "code",
      "execution_count": null,
      "metadata": {
        "id": "qWJ_zyPhPui3"
      },
      "outputs": [],
      "source": [
        "import pandas as pd\n",
        "import geopandas as gpd\n",
        "import matplotlib.pyplot as plt\n",
        "from mpl_toolkits.axes_grid1 import make_axes_locatable\n"
      ]
    },
    {
      "cell_type": "code",
      "source": [
        "data = pd.read_csv('result.txt', sep=',', header=None, names=['state', 'year', 'score', 'number'])\n",
        "data['panic_level'] = data['score'] / data['number']\n"
      ],
      "metadata": {
        "id": "4jF9NK8eP0Jq"
      },
      "execution_count": null,
      "outputs": []
    },
    {
      "cell_type": "code",
      "source": [
        "#Calculate the global minimum and maximum panic levels:\n",
        "min_panic_level = data['panic_level'].min()\n",
        "max_panic_level = data['panic_level'].max()"
      ],
      "metadata": {
        "id": "1fOcl4DuVbt_"
      },
      "execution_count": null,
      "outputs": []
    },
    {
      "cell_type": "code",
      "source": [
        "shapefile_path = '/content/ne_50m_admin_1_states_provinces.shp'\n",
        "usa_map = gpd.read_file(shapefile_path)\n",
        "\n",
        "# Filter the map to keep only the United States\n",
        "usa_map = usa_map[usa_map['admin'] == 'United States of America']\n"
      ],
      "metadata": {
        "id": "1xA_jVciS6wt"
      },
      "execution_count": null,
      "outputs": []
    },
    {
      "cell_type": "code",
      "source": [
        "# def create_heatmap(year, data, usa_map, output_folder):\n",
        "#     data_year = data[data['year'] == year]\n",
        "#     merged_map = usa_map.set_index('name').join(data_year.set_index('state'))\n",
        "#     merged_map = merged_map.reset_index()\n",
        "\n",
        "#     fig, ax = plt.subplots(1, figsize=(20, 12))\n",
        "#     divider = make_axes_locatable(ax)\n",
        "#     cax = divider.append_axes(\"right\", size=\"5%\", pad=0.1)\n",
        "#     merged_map.plot(column='panic_level', cmap='coolwarm_r', linewidth=0.8, ax=ax, edgecolor='0.8', legend=True, cax=cax)\n",
        "\n",
        "#     ax.set_title(f\"Heatmap of Panic Spread Across America's States ({year})\", fontsize=20)\n",
        "#     ax.set_axis_off()\n",
        "\n",
        "#     plt.savefig(f\"{output_folder}/heatmap_{year}.png\", dpi=300)\n",
        "#     plt.close()\n",
        "\n",
        "def create_heatmap(year, data, usa_map, output_folder, vmin, vmax):\n",
        "    data_year = data[data['year'] == year]\n",
        "    merged_map = usa_map.set_index('name').join(data_year.set_index('state'))\n",
        "    merged_map = merged_map.reset_index()\n",
        "\n",
        "    fig, ax = plt.subplots(1, figsize=(20, 12))\n",
        "    divider = make_axes_locatable(ax)\n",
        "    cax = divider.append_axes(\"right\", size=\"5%\", pad=0.1)\n",
        "    merged_map.plot(column='panic_level', cmap='coolwarm_r', linewidth=0.8, ax=ax, edgecolor='0.8',\n",
        "                    legend=True, cax=cax, vmin=vmin, vmax=vmax)\n",
        "\n",
        "    ax.set_title(f\"Heatmap of Panic Spread Across America's States ({year})\", fontsize=20)\n",
        "    ax.set_axis_off()\n",
        "\n",
        "    plt.savefig(f\"{output_folder}/heatmap_{year}.png\", dpi=300)\n",
        "    plt.close()\n",
        "\n"
      ],
      "metadata": {
        "id": "xGddWPR6P3JC"
      },
      "execution_count": null,
      "outputs": []
    },
    {
      "cell_type": "code",
      "source": [
        "output_folder = \"heatmaps\"\n",
        "if not os.path.exists(output_folder):\n",
        "    os.makedirs(output_folder)\n",
        "\n",
        "unique_years = sorted(data['year'].unique())\n",
        "\n",
        "# for year in unique_years:\n",
        "#     create_heatmap(year, data, usa_map, output_folder)\n",
        "\n",
        "for year in unique_years:\n",
        "    create_heatmap(year, data, usa_map, output_folder, min_panic_level, max_panic_level)\n"
      ],
      "metadata": {
        "id": "_v4inh3ZSypl"
      },
      "execution_count": null,
      "outputs": []
    },
    {
      "cell_type": "code",
      "source": [
        "import cv2\n",
        "import os\n",
        "\n",
        "video_name = 'heatmap_evolution.mp4'\n",
        "frame_rate = 1  # Set the number of frames per second\n",
        "\n",
        "# Get the dimensions of the first image\n",
        "first_image = cv2.imread(f\"{output_folder}/heatmap_{unique_years[0]}.png\")\n",
        "height, width, _ = first_image.shape\n",
        "\n",
        "# Set up the video writer with the mp4 codec\n",
        "video_writer = cv2.VideoWriter(video_name, cv2.VideoWriter_fourcc(*'mp4v'), frame_rate, (width, height))\n",
        "\n",
        "# Add each image to the video\n",
        "for year in unique_years:\n",
        "    image = cv2.imread(f\"{output_folder}/heatmap_{year}.png\")\n",
        "    video_writer.write(image)\n",
        "\n",
        "# Release the video writer\n",
        "video_writer.release()\n",
        "\n"
      ],
      "metadata": {
        "id": "538QLRPETQH5"
      },
      "execution_count": null,
      "outputs": []
    },
    {
      "cell_type": "code",
      "source": [],
      "metadata": {
        "id": "myut9y87Vasq"
      },
      "execution_count": null,
      "outputs": []
    }
  ]
}