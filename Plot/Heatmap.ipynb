{
  "nbformat": 4,
  "nbformat_minor": 0,
  "metadata": {
    "colab": {
      "provenance": []
    },
    "kernelspec": {
      "name": "python3",
      "display_name": "Python 3"
    },
    "language_info": {
      "name": "python"
    }
  },
  "cells": [
    {
      "cell_type": "code",
      "source": [
        "!pip install geopandas"
      ],
      "metadata": {
        "colab": {
          "base_uri": "https://localhost:8080/"
        },
        "id": "L5Y7GSbhSzTE",
        "outputId": "2b4affaf-5a4b-4a43-e6a0-044049d21c37"
      },
      "execution_count": 1,
      "outputs": [
        {
          "output_type": "stream",
          "name": "stdout",
          "text": [
            "Looking in indexes: https://pypi.org/simple, https://us-python.pkg.dev/colab-wheels/public/simple/\n",
            "Collecting geopandas\n",
            "  Downloading geopandas-0.12.2-py3-none-any.whl (1.1 MB)\n",
            "\u001b[2K     \u001b[90m━━━━━━━━━━━━━━━━━━━━━━━━━━━━━━━━━━━━━━━━\u001b[0m \u001b[32m1.1/1.1 MB\u001b[0m \u001b[31m28.4 MB/s\u001b[0m eta \u001b[36m0:00:00\u001b[0m\n",
            "\u001b[?25hCollecting pyproj>=2.6.1.post1\n",
            "  Downloading pyproj-3.5.0-cp310-cp310-manylinux_2_17_x86_64.manylinux2014_x86_64.whl (7.7 MB)\n",
            "\u001b[2K     \u001b[90m━━━━━━━━━━━━━━━━━━━━━━━━━━━━━━━━━━━━━━━━\u001b[0m \u001b[32m7.7/7.7 MB\u001b[0m \u001b[31m28.5 MB/s\u001b[0m eta \u001b[36m0:00:00\u001b[0m\n",
            "\u001b[?25hRequirement already satisfied: packaging in /usr/local/lib/python3.10/dist-packages (from geopandas) (23.1)\n",
            "Requirement already satisfied: shapely>=1.7 in /usr/local/lib/python3.10/dist-packages (from geopandas) (2.0.1)\n",
            "Requirement already satisfied: pandas>=1.0.0 in /usr/local/lib/python3.10/dist-packages (from geopandas) (1.5.3)\n",
            "Collecting fiona>=1.8\n",
            "  Downloading Fiona-1.9.3-cp310-cp310-manylinux_2_17_x86_64.manylinux2014_x86_64.whl (16.0 MB)\n",
            "\u001b[2K     \u001b[90m━━━━━━━━━━━━━━━━━━━━━━━━━━━━━━━━━━━━━━━━\u001b[0m \u001b[32m16.0/16.0 MB\u001b[0m \u001b[31m37.6 MB/s\u001b[0m eta \u001b[36m0:00:00\u001b[0m\n",
            "\u001b[?25hRequirement already satisfied: attrs>=19.2.0 in /usr/local/lib/python3.10/dist-packages (from fiona>=1.8->geopandas) (23.1.0)\n",
            "Requirement already satisfied: click~=8.0 in /usr/local/lib/python3.10/dist-packages (from fiona>=1.8->geopandas) (8.1.3)\n",
            "Requirement already satisfied: certifi in /usr/local/lib/python3.10/dist-packages (from fiona>=1.8->geopandas) (2022.12.7)\n",
            "Collecting click-plugins>=1.0\n",
            "  Downloading click_plugins-1.1.1-py2.py3-none-any.whl (7.5 kB)\n",
            "Collecting munch>=2.3.2\n",
            "  Downloading munch-2.5.0-py2.py3-none-any.whl (10 kB)\n",
            "Collecting cligj>=0.5\n",
            "  Downloading cligj-0.7.2-py3-none-any.whl (7.1 kB)\n",
            "Requirement already satisfied: pytz>=2020.1 in /usr/local/lib/python3.10/dist-packages (from pandas>=1.0.0->geopandas) (2022.7.1)\n",
            "Requirement already satisfied: numpy>=1.21.0 in /usr/local/lib/python3.10/dist-packages (from pandas>=1.0.0->geopandas) (1.22.4)\n",
            "Requirement already satisfied: python-dateutil>=2.8.1 in /usr/local/lib/python3.10/dist-packages (from pandas>=1.0.0->geopandas) (2.8.2)\n",
            "Requirement already satisfied: six in /usr/local/lib/python3.10/dist-packages (from munch>=2.3.2->fiona>=1.8->geopandas) (1.16.0)\n",
            "Installing collected packages: pyproj, munch, cligj, click-plugins, fiona, geopandas\n",
            "Successfully installed click-plugins-1.1.1 cligj-0.7.2 fiona-1.9.3 geopandas-0.12.2 munch-2.5.0 pyproj-3.5.0\n"
          ]
        }
      ]
    },
    {
      "cell_type": "code",
      "execution_count": 2,
      "metadata": {
        "id": "qWJ_zyPhPui3"
      },
      "outputs": [],
      "source": [
        "import pandas as pd\n",
        "import geopandas as gpd\n",
        "import matplotlib.pyplot as plt\n",
        "from mpl_toolkits.axes_grid1 import make_axes_locatable\n"
      ]
    },
    {
      "cell_type": "code",
      "source": [
        "import numpy as np\n",
        "data = pd.read_csv('result_597.txt', sep=',', header=None, names=['state', 'year', 'score', 'number'])\n",
        "# Filter out data points with 'number' less than 50\n",
        "data = data[data['number'] >= 50]\n",
        "\n",
        "data['panic_level'] = np.log(data['score'] / data['number'] +1)\n",
        "data['new_score'] = data['panic_level'] "
      ],
      "metadata": {
        "id": "4jF9NK8eP0Jq"
      },
      "execution_count": 4,
      "outputs": []
    },
    {
      "cell_type": "code",
      "source": [
        "# New panic_score data for Alaska\n",
        "xx = [23.2369414567947410, 39.521445989608765101, 53.7055667638778710, 58.36730605363846,7.687720000743866101 * 4+ 0.003826797008514404310,  25.8558760285377510, -11.79382592439651510, -5.93822097778320310, 2.158977568149566710, 7.58016651868820210, -5.7847025394439710, 3.49432802200317410, (6.38201344013214110+ 24.9101712703704832)/2, 71.7858994007110610, 63.78337705135345510, 65.7723408341407810, 65.4892883300781210]\n",
        "xx= [a/101 for a in xx]\n",
        "# Years for the new data\n",
        "years = [year for year in range(1920, 1937)]\n",
        "\n",
        "# Create a new DataFrame with the given values and years for Alaska\n",
        "new_alaska_data = pd.DataFrame({'state': 'Alaska', 'year': years, 'panic_score': xx})\n",
        "\n",
        "# Calculate the new_score for the new Alaska data\n",
        "new_alaska_data['new_score'] = np.log(new_alaska_data['panic_score'] + 1)\n",
        "\n",
        "# Remove the original Alaska data from the dataset\n",
        "data = data[data['state'] != 'Alaska']\n",
        "\n",
        "# Append the new Alaska data to the dataset\n",
        "data = data.append(new_alaska_data, ignore_index=True)\n"
      ],
      "metadata": {
        "colab": {
          "base_uri": "https://localhost:8080/"
        },
        "id": "ueenAdmnlCxJ",
        "outputId": "d17ebd3f-3ef5-450a-86de-319df5e3f916"
      },
      "execution_count": 69,
      "outputs": [
        {
          "output_type": "stream",
          "name": "stderr",
          "text": [
            "<ipython-input-69-ccc079c7c61e>:17: FutureWarning: The frame.append method is deprecated and will be removed from pandas in a future version. Use pandas.concat instead.\n",
            "  data = data.append(new_alaska_data, ignore_index=True)\n"
          ]
        }
      ]
    },
    {
      "cell_type": "code",
      "source": [
        "#Calculate the global minimum and maximum panic levels:\n",
        "min_panic_level = data['new_score'].min()\n",
        "max_panic_level = data['new_score'].max()\n",
        "avg_panic_level = data['new_score'].mean()\n",
        "print(avg_panic_level)\n",
        "min_new_score, max_new_score = min_panic_level, max_panic_level\n",
        "\n",
        "print(min_new_score, max_new_score )"
      ],
      "metadata": {
        "id": "1fOcl4DuVbt_",
        "colab": {
          "base_uri": "https://localhost:8080/"
        },
        "outputId": "7b14d6d5-a02e-4fca-efdf-f764deb9688f"
      },
      "execution_count": 5,
      "outputs": [
        {
          "output_type": "stream",
          "name": "stdout",
          "text": [
            "0.3447897902720991\n",
            "-0.147527693622174 0.5888761058286769\n"
          ]
        }
      ]
    },
    {
      "cell_type": "code",
      "source": [
        "shapefile_path = '/content/ne_50m_admin_1_states_provinces.shp'\n",
        "usa_map = gpd.read_file(shapefile_path)\n",
        "\n",
        "# Filter the map to keep only the United States\n",
        "usa_map = usa_map[usa_map['admin'] == 'United States of America']\n"
      ],
      "metadata": {
        "id": "1xA_jVciS6wt"
      },
      "execution_count": 6,
      "outputs": []
    },
    {
      "cell_type": "code",
      "source": [
        "import matplotlib.colors as mcolors\n"
      ],
      "metadata": {
        "id": "kXp52RyTX1G1"
      },
      "execution_count": 10,
      "outputs": []
    },
    {
      "cell_type": "code",
      "source": [
        "def normalize(value, min_value, max_value):\n",
        "    return (value - min_value) / (max_value - min_value)\n",
        "\n",
        "\n",
        "def create_custom_colormap(min_value, max_value, ave_value):\n",
        "    colormap = mcolors.LinearSegmentedColormap.from_list(\n",
        "        'custom_colormap',\n",
        "        [\n",
        "            (normalize(min_value, min_value, max_value), 'red'),\n",
        "            (normalize(0.15, min_value, max_value), 'white'),\n",
        "            (normalize(max_value, min_value, max_value), 'blue')\n",
        "        ]\n",
        "    )\n",
        "    return colormap\n"
      ],
      "metadata": {
        "id": "fImGEhIMcmg5"
      },
      "execution_count": 11,
      "outputs": []
    },
    {
      "cell_type": "code",
      "source": [
        "# def create_heatmap(year, data, usa_map, output_folder):\n",
        "#     data_year = data[data['year'] == year]\n",
        "#     merged_map = usa_map.set_index('name').join(data_year.set_index('state'))\n",
        "#     merged_map = merged_map.reset_index()\n",
        "\n",
        "#     fig, ax = plt.subplots(1, figsize=(20, 12))\n",
        "#     divider = make_axes_locatable(ax)\n",
        "#     cax = divider.append_axes(\"right\", size=\"5%\", pad=0.1)\n",
        "#     merged_map.plot(column='panic_level', cmap='coolwarm_r', linewidth=0.8, ax=ax, edgecolor='0.8', legend=True, cax=cax)\n",
        "\n",
        "#     ax.set_title(f\"Heatmap of Panic Spread Across America's States ({year})\", fontsize=20)\n",
        "#     ax.set_axis_off()\n",
        "\n",
        "#     plt.savefig(f\"{output_folder}/heatmap_{year}.png\", dpi=300)\n",
        "#     plt.close()\n",
        "\n",
        "# def create_heatmap(year, data, usa_map, output_folder, vmin, vmax):\n",
        "#     data_year = data[data['year'] == year]\n",
        "#     merged_map = usa_map.set_index('name').join(data_year.set_index('state'))\n",
        "#     merged_map = merged_map.reset_index()\n",
        "\n",
        "#     fig, ax = plt.subplots(1, figsize=(20, 12))\n",
        "#     divider = make_axes_locatable(ax)\n",
        "#     cax = divider.append_axes(\"right\", size=\"5%\", pad=0.1)\n",
        "#     merged_map.plot(column='panic_level', cmap='coolwarm_r', linewidth=0.8, ax=ax, edgecolor='0.8',\n",
        "#                     legend=True, cax=cax, vmin=vmin, vmax=vmax)\n",
        "\n",
        "#     ax.set_title(f\"Heatmap of Panic Spread Across America's States ({year})\", fontsize=20)\n",
        "#     ax.set_axis_off()\n",
        "\n",
        "#     plt.savefig(f\"{output_folder}/heatmap_{year}.png\", dpi=300)\n",
        "#     plt.close()\n",
        "\n",
        "\n",
        "def create_heatmap(year, data, usa_map, output_folder, vmin, vmax, colormap):\n",
        "    data_year = data[data['year'] == year]\n",
        "    merged_map = usa_map.set_index('name').join(data_year.set_index('state'))\n",
        "    merged_map = merged_map.reset_index()\n",
        "\n",
        "    fig, ax = plt.subplots(1, figsize=(20, 12))\n",
        "    \n",
        "    # Set a constant aspect ratio for the Axes object\n",
        "    ax.set_aspect('equal', 'box')\n",
        "    \n",
        "    divider = make_axes_locatable(ax)\n",
        "    cax = divider.append_axes(\"right\", size=\"5%\", pad=0.1)\n",
        "    merged_map.plot(column='new_score', cmap=colormap, linewidth=0.8, ax=ax, edgecolor='0.8',\n",
        "                    legend=True, cax=cax, vmin=vmin, vmax=vmax)\n",
        "\n",
        "    ax.set_title(f\"Heatmap of Panic Spread Across America's States ({year})\", fontsize=20)\n",
        "    ax.set_axis_off()\n",
        "\n",
        "    plt.savefig(f\"{output_folder}/heatmap_{year}.png\", dpi=300)\n",
        "    plt.close()\n"
      ],
      "metadata": {
        "id": "xGddWPR6P3JC"
      },
      "execution_count": 8,
      "outputs": []
    },
    {
      "cell_type": "code",
      "source": [
        "import os\n",
        "output_folder = \"heatmaps\"\n",
        "if not os.path.exists(output_folder):\n",
        "    os.makedirs(output_folder)\n",
        "\n",
        "unique_years = sorted(data['year'].unique())\n",
        "\n",
        "# for year in unique_years:\n",
        "#     create_heatmap(year, data, usa_map, output_folder)\n",
        "\n",
        "# for year in unique_years:\n",
        "#     create_heatmap(year, data, usa_map, output_folder, min_panic_level, max_panic_level)\n",
        "colormap = create_custom_colormap(min_new_score, max_new_score, avg_panic_level)\n",
        "\n",
        "\n",
        "for year in unique_years:\n",
        "    create_heatmap(year, data, usa_map, output_folder, min_new_score, max_new_score, colormap)\n",
        "\n"
      ],
      "metadata": {
        "id": "_v4inh3ZSypl"
      },
      "execution_count": 12,
      "outputs": []
    },
    {
      "cell_type": "code",
      "source": [
        "import cv2\n",
        "import os\n",
        "\n",
        "video_name = 'heatmap_evolution.mp4'\n",
        "frame_rate = 1  # Set the number of frames per second\n",
        "\n",
        "# Get the dimensions of the first image\n",
        "first_image = cv2.imread(f\"{output_folder}/heatmap_{unique_years[0]}.png\")\n",
        "height, width, _ = first_image.shape\n",
        "\n",
        "# Set up the video writer with the mp4 codec\n",
        "video_writer = cv2.VideoWriter(video_name, cv2.VideoWriter_fourcc(*'mp4v'), frame_rate, (width, height))\n",
        "\n",
        "# Add each image to the video\n",
        "for year in unique_years:\n",
        "    image = cv2.imread(f\"{output_folder}/heatmap_{year}.png\")\n",
        "    video_writer.write(image)\n",
        "\n",
        "# Release the video writer\n",
        "video_writer.release()\n",
        "\n"
      ],
      "metadata": {
        "id": "538QLRPETQH5"
      },
      "execution_count": 13,
      "outputs": []
    },
    {
      "cell_type": "code",
      "source": [],
      "metadata": {
        "id": "myut9y87Vasq"
      },
      "execution_count": null,
      "outputs": []
    }
  ]
}