{
  "cells": [
    {
      "cell_type": "markdown",
      "metadata": {
        "id": "view-in-github",
        "colab_type": "text"
      },
      "source": [
        "<a href=\"https://colab.research.google.com/github/KeHang-Zhu/panic_spread/blob/main/4_20_CA_scraper.ipynb\" target=\"_parent\"><img src=\"https://colab.research.google.com/assets/colab-badge.svg\" alt=\"Open In Colab\"/></a>"
      ]
    },
    {
      "cell_type": "code",
      "execution_count": 13,
      "metadata": {
        "id": "tJk9c_SsVCff"
      },
      "outputs": [],
      "source": [
        "import pandas as pd\n",
        "import requests\n",
        "import regex as re"
      ]
    },
    {
      "cell_type": "code",
      "source": [
        "import os\n",
        "os.environ['NotebookApp.iopub_data_rate_limit'] = str(1000000000)"
      ],
      "metadata": {
        "id": "0jQBIJ3D5yhA"
      },
      "execution_count": 14,
      "outputs": []
    },
    {
      "cell_type": "code",
      "execution_count": 15,
      "metadata": {
        "colab": {
          "base_uri": "https://localhost:8080/"
        },
        "id": "cUqNJkYeK_PY",
        "outputId": "1d34eda0-f079-4987-cb3f-25d9badee083"
      },
      "outputs": [
        {
          "output_type": "stream",
          "name": "stdout",
          "text": [
            "Looking in indexes: https://pypi.org/simple, https://us-python.pkg.dev/colab-wheels/public/simple/\n",
            "Requirement already satisfied: transformers in /usr/local/lib/python3.9/dist-packages (4.28.1)\n",
            "Requirement already satisfied: numpy>=1.17 in /usr/local/lib/python3.9/dist-packages (from transformers) (1.22.4)\n",
            "Requirement already satisfied: pyyaml>=5.1 in /usr/local/lib/python3.9/dist-packages (from transformers) (6.0)\n",
            "Requirement already satisfied: requests in /usr/local/lib/python3.9/dist-packages (from transformers) (2.27.1)\n",
            "Requirement already satisfied: huggingface-hub<1.0,>=0.11.0 in /usr/local/lib/python3.9/dist-packages (from transformers) (0.14.0)\n",
            "Requirement already satisfied: filelock in /usr/local/lib/python3.9/dist-packages (from transformers) (3.11.0)\n",
            "Requirement already satisfied: packaging>=20.0 in /usr/local/lib/python3.9/dist-packages (from transformers) (23.1)\n",
            "Requirement already satisfied: regex!=2019.12.17 in /usr/local/lib/python3.9/dist-packages (from transformers) (2022.10.31)\n",
            "Requirement already satisfied: tokenizers!=0.11.3,<0.14,>=0.11.1 in /usr/local/lib/python3.9/dist-packages (from transformers) (0.13.3)\n",
            "Requirement already satisfied: tqdm>=4.27 in /usr/local/lib/python3.9/dist-packages (from transformers) (4.65.0)\n",
            "Requirement already satisfied: fsspec in /usr/local/lib/python3.9/dist-packages (from huggingface-hub<1.0,>=0.11.0->transformers) (2023.4.0)\n",
            "Requirement already satisfied: typing-extensions>=3.7.4.3 in /usr/local/lib/python3.9/dist-packages (from huggingface-hub<1.0,>=0.11.0->transformers) (4.5.0)\n",
            "Requirement already satisfied: urllib3<1.27,>=1.21.1 in /usr/local/lib/python3.9/dist-packages (from requests->transformers) (1.26.15)\n",
            "Requirement already satisfied: idna<4,>=2.5 in /usr/local/lib/python3.9/dist-packages (from requests->transformers) (3.4)\n",
            "Requirement already satisfied: charset-normalizer~=2.0.0 in /usr/local/lib/python3.9/dist-packages (from requests->transformers) (2.0.12)\n",
            "Requirement already satisfied: certifi>=2017.4.17 in /usr/local/lib/python3.9/dist-packages (from requests->transformers) (2022.12.7)\n"
          ]
        }
      ],
      "source": [
        "!pip install transformers"
      ]
    },
    {
      "cell_type": "code",
      "execution_count": 16,
      "metadata": {
        "colab": {
          "base_uri": "https://localhost:8080/"
        },
        "id": "DuWLDZi9w5U2",
        "outputId": "ccded317-4fd1-4350-8749-e6dd14b48c0a"
      },
      "outputs": [
        {
          "output_type": "stream",
          "name": "stdout",
          "text": [
            "[{'label': 'POSITIVE', 'score': 0.9988656044006348}]\n"
          ]
        }
      ],
      "source": [
        "from transformers import pipeline\n",
        "sentiment_analysis = pipeline(\"sentiment-analysis\", model=\"siebert/sentiment-roberta-large-english\")\n",
        "print(sentiment_analysis(\"I love this!\"))"
      ]
    },
    {
      "cell_type": "markdown",
      "metadata": {
        "id": "iM6wDP94pHMZ"
      },
      "source": [
        "Want to filter the CVS and only keep the entry/rows that have the year in First Issue Date < 1940 and the year in Last Issue Date > 1920"
      ]
    },
    {
      "cell_type": "code",
      "source": [
        "!pip install symspellpy"
      ],
      "metadata": {
        "colab": {
          "base_uri": "https://localhost:8080/"
        },
        "id": "iwJX4tTIjT6s",
        "outputId": "3ca26219-0e30-4cef-d6a3-ccc635a66d13"
      },
      "execution_count": 17,
      "outputs": [
        {
          "output_type": "stream",
          "name": "stdout",
          "text": [
            "Looking in indexes: https://pypi.org/simple, https://us-python.pkg.dev/colab-wheels/public/simple/\n",
            "Requirement already satisfied: symspellpy in /usr/local/lib/python3.9/dist-packages (6.7.7)\n",
            "Requirement already satisfied: editdistpy>=0.1.3 in /usr/local/lib/python3.9/dist-packages (from symspellpy) (0.1.3)\n"
          ]
        }
      ]
    },
    {
      "cell_type": "code",
      "source": [
        "from symspellpy import SymSpell\n",
        "import pkg_resources"
      ],
      "metadata": {
        "id": "F38lemJQjWwG"
      },
      "execution_count": 18,
      "outputs": []
    },
    {
      "cell_type": "code",
      "source": [
        "symspell = SymSpell()\n",
        "dict_path = pkg_resources.resource_filename(\"symspellpy\", \"frequency_dictionary_en_82_765.txt\") # Get file path for dictionary\n",
        "symspell.load_dictionary(dict_path, 0, 1) # Load in dictionary\n",
        "eng_dictionary = symspell.words # Get keyed list of english words"
      ],
      "metadata": {
        "id": "Y94vmMU9fNWB"
      },
      "execution_count": 19,
      "outputs": []
    },
    {
      "cell_type": "code",
      "execution_count": 20,
      "metadata": {
        "id": "nKI_dLI-PIIf"
      },
      "outputs": [],
      "source": [
        "from bs4 import BeautifulSoup"
      ]
    },
    {
      "cell_type": "code",
      "execution_count": 21,
      "metadata": {
        "colab": {
          "base_uri": "https://localhost:8080/"
        },
        "id": "JkePLznrldGt",
        "outputId": "55e91c22-718c-48ed-b6e5-19b4f376a4d7"
      },
      "outputs": [
        {
          "output_type": "stream",
          "name": "stdout",
          "text": [
            "Index(['Persistent Link', 'State', 'Title', 'LCCN', 'OCLC', 'ISSN',\n",
            "       'No. of Issues', 'First Issue Date', 'Last Issue Date', 'More Info'],\n",
            "      dtype='object')\n",
            "                                        Persistent Link    State  \\\n",
            "2     https://chroniclingamerica.loc.gov/lccn/sn8503...  Alabama   \n",
            "22    https://chroniclingamerica.loc.gov/lccn/202121...   Alaska   \n",
            "26    https://chroniclingamerica.loc.gov/lccn/sn8402...   Alaska   \n",
            "27    https://chroniclingamerica.loc.gov/lccn/sn9304...   Alaska   \n",
            "34    https://chroniclingamerica.loc.gov/lccn/sn9405...   Alaska   \n",
            "...                                                 ...      ...   \n",
            "3992  https://chroniclingamerica.loc.gov/lccn/sn9206...  Wyoming   \n",
            "3999  https://chroniclingamerica.loc.gov/lccn/sn9206...  Wyoming   \n",
            "4000  https://chroniclingamerica.loc.gov/lccn/sn9206...  Wyoming   \n",
            "4001  https://chroniclingamerica.loc.gov/lccn/sn9206...  Wyoming   \n",
            "4004  https://chroniclingamerica.loc.gov/lccn/sn8300...  Wyoming   \n",
            "\n",
            "                                                  Title        LCCN  \\\n",
            "2      The Birmingham age-herald. [volume] (Birmingh...  sn85038485   \n",
            "22     The &quot;J&quot; bird. [volume] (Juneau, Ala...  2021218673   \n",
            "26     The Alaska daily empire. [volume] (Juneau, Al...  sn84020657   \n",
            "27     The Alaska fisherman. [volume] (Juneau, Alask...  sn93049282   \n",
            "34         The Alaskan. (Petersburg, Alaska) 1926-1932   sn94050088   \n",
            "...                                                 ...         ...   \n",
            "3992       The Cody enterprise. (Cody, Wyo.) 1923-1926   sn92066929   \n",
            "3999   The Northern Wyoming herald. (Cody, Wyo.) 191...  sn92066926   \n",
            "4000        Park County herald. (Cody, Wyo.) 1924-1926   sn92066928   \n",
            "4001     Rawlins Republican. (Rawlins, Wyo.) 1901-1935   sn92067236   \n",
            "4004   The Saratoga sun. (Saratoga, Carbon County, W...  sn83002748   \n",
            "\n",
            "             OCLC       ISSN  No. of Issues First Issue Date Last Issue Date  \\\n",
            "2      12607279.0  2692-6318         8237.0       1902-05-21      1924-12-31   \n",
            "22    767526793.0        NaN           88.0       1932-12-17      1936-05-16   \n",
            "26      3039521.0  2576-9227         4340.0       1912-11-02      1926-12-07   \n",
            "27     29593944.0        NaN           97.0       1923-05-15      1932-09-15   \n",
            "34     31214772.0        NaN          320.0       1926-07-16      1932-09-30   \n",
            "...           ...        ...            ...              ...             ...   \n",
            "3992   25224927.0        NaN          184.0       1923-01-10      1927-12-28   \n",
            "3999   25224904.0        NaN          406.0       1916-05-12      1924-03-26   \n",
            "4000   25224920.0        NaN          117.0       1924-04-02      1926-06-09   \n",
            "4001   27184809.0        NaN         1617.0       1901-08-07      1930-12-04   \n",
            "4004    9965363.0  0740-4948         1748.0       1891-07-14      1926-02-25   \n",
            "\n",
            "                                              More Info  First Issue Year  \\\n",
            "2     https://chroniclingamerica.loc.gov/lccn/sn8503...            1902.0   \n",
            "22                                                  NaN            1932.0   \n",
            "26    https://chroniclingamerica.loc.gov/lccn/sn8402...            1912.0   \n",
            "27                                                  NaN            1923.0   \n",
            "34                                                  NaN            1926.0   \n",
            "...                                                 ...               ...   \n",
            "3992  https://chroniclingamerica.loc.gov/lccn/sn9206...            1923.0   \n",
            "3999  https://chroniclingamerica.loc.gov/lccn/sn9206...            1916.0   \n",
            "4000  https://chroniclingamerica.loc.gov/lccn/sn9206...            1924.0   \n",
            "4001  https://chroniclingamerica.loc.gov/lccn/sn9206...            1901.0   \n",
            "4004  https://chroniclingamerica.loc.gov/lccn/sn8300...            1891.0   \n",
            "\n",
            "      Last Issue Year  \n",
            "2              1924.0  \n",
            "22             1936.0  \n",
            "26             1926.0  \n",
            "27             1932.0  \n",
            "34             1932.0  \n",
            "...               ...  \n",
            "3992           1927.0  \n",
            "3999           1924.0  \n",
            "4000           1926.0  \n",
            "4001           1930.0  \n",
            "4004           1926.0  \n",
            "\n",
            "[741 rows x 12 columns]\n"
          ]
        }
      ],
      "source": [
        "# read in the CSV file\n",
        "df = pd.read_csv('/content/4_20_CA_newspapers - 4_20_CA_newspapers.csv', encoding='latin-1')\n",
        "\n",
        "print(df.columns)\n",
        "df.columns = [c.strip() for c in df.columns]\n",
        "\n",
        "# convert the 'First Issue Date' and 'Last Issue Date' columns to datetime objects\n",
        "df['First Issue Date'] = pd.to_datetime(df['First Issue Date'])\n",
        "df['Last Issue Date'] = pd.to_datetime(df['Last Issue Date'])\n",
        "\n",
        "# extract the year from the 'First Issue Date' and 'Last Issue Date' columns\n",
        "df['First Issue Year'] = df['First Issue Date'].dt.year\n",
        "df['Last Issue Year'] = df['Last Issue Date'].dt.year\n",
        "\n",
        "# filter the dataframe to only keep entries with a year greater than 1920\n",
        "df_filtered = df[(df['First Issue Year'] < 1940) & (df['Last Issue Year'] > 1920)]\n",
        "\n",
        "# print out the filtered dataframe\n",
        "print(df_filtered)"
      ]
    },
    {
      "cell_type": "markdown",
      "metadata": {
        "id": "xa97_MJlLa_6"
      },
      "source": [
        "Loop through all the sn# & years"
      ]
    },
    {
      "cell_type": "code",
      "execution_count": 51,
      "metadata": {
        "id": "Q6LGtyvHVFzN"
      },
      "outputs": [],
      "source": [
        "def get_url(lccn, year):\n",
        "    # Example url:\n",
        "    url = f'https://chroniclingamerica.loc.gov/lccn/{lccn}/issues/{year}'\n",
        "    # url = 'https://chroniclingamerica.loc.gov/lccn/sn86072192/issues/1897/'\n",
        "    lccn_label = lccn.strip() \n",
        "\n",
        "    session = requests.Session()\n",
        "    response = session.get(url).text\n",
        "    # print(response)\n",
        "\n",
        "    # Parse out issue dates from the response using regex\n",
        "    # pattern = rf'<a href=\"/lccn/{lccn}/{year}.*/\\\">'\n",
        "    # pattern = rf'<a href=\"/lccn/{lccn}/{year}-\\d{2}-\\d{2}/*/\">'\n",
        "\n",
        "    pattern = r'<a href=\"/lccn/'+ lccn.strip() + '/' + str(year) +'-.*?>'\n",
        "    matches = re.findall(pattern, response)\n",
        "    \n",
        "    # Return a dictionary indexed by lccn and year\n",
        "    return {'lccn': lccn, 'year': year, 'matches': matches}"
      ]
    },
    {
      "cell_type": "code",
      "execution_count": 52,
      "metadata": {
        "id": "VDVcrwRgRygx"
      },
      "outputs": [],
      "source": [
        "import os\n",
        "\n",
        "def save_matches_to_file(lccn, year, matches):\n",
        "  # Helper function to save matches to file\n",
        "  directory = f'/content/urls/{lccn.strip()}/'\n",
        "  print(f'{directory}{year}.txt')\n",
        "  if not os.path.exists(directory):\n",
        "    os.makedirs(directory)\n",
        "  with open(f'{directory}/{year}.txt', 'w') as outfile:\n",
        "    outfile.writelines(matches)\n",
        "\n",
        "def scrape_urls(df_filtered):\n",
        "  # Main function to scrape URLs and save matches to file\n",
        "  # for index, row in df_filtered.iterrows():\n",
        "  #   print(row)\n",
        "  for index, row in df_filtered.iterrows():\n",
        "    lccn = row['LCCN']\n",
        "    # first_year = row['First Issue Year']\n",
        "    # last_year = row['Last Issue Year']\n",
        "    first_year = int(row['First Issue Year'])\n",
        "    last_year = int(row['Last Issue Year'])\n",
        "    for year in range(first_year, last_year+1):\n",
        "      # result = get_url(lccn, year)\n",
        "      # matches = result['matches'\n",
        "      if int(year) >= 1920 and int(year) <= 1940:\n",
        "        print(\"LCCN\",lccn,\"year:\",year)\n",
        "        texts_score = get_text(lccn, year)\n",
        "        print(\"LCCN\",lccn,\"year:\",year, 'score:',texts_score)\n",
        "        # save_matches_to_file(lccn, year, matches)\n",
        "        save_matches_to_file(lccn, year, texts_score)\n",
        "      else:\n",
        "        continue"
      ]
    },
    {
      "cell_type": "code",
      "execution_count": 53,
      "metadata": {
        "colab": {
          "base_uri": "https://localhost:8080/"
        },
        "id": "ZMRE2yItJduW",
        "outputId": "0304506a-d7fb-461a-a877-8471a9dd899a"
      },
      "outputs": [
        {
          "output_type": "stream",
          "name": "stdout",
          "text": [
            "<a href=\"/lccn/sn86072192/1897-08-01/ed-1/seq-1/\">\n"
          ]
        }
      ],
      "source": [
        "import re\n",
        "\n",
        "# html_text = '<tr><td class=\"single sun\"><a href=\"/lccn/sn86072192/1897-08-22/ed-1/\">22</a></td><td class=\"noissues mon\">23</td><td class=\"single tue\"><a href=\"/lccn/sn86072192/1897-08-24/ed-1/\">24</a></td><td class=\"single wed\"><a href=\"/lccn/sn86072192/1897-08-25/ed-1/\">25</a></td><td class=\"single thu\"><a href=\"/lccn/sn86072192/1897-08-26/ed-1/\">26</a></td><td class=\"single fri\"><a href=\"/lccn/sn86072192/1897-08-27/ed-1/\">27</a></td><td class=\"single sat\"><a href=\"/lccn/sn86072192/1897-08-28/ed-1/\">28</a></td></tr>'\n",
        "html_text =  ' <a href=\"/lccn/sn86072192/1897-08-01/ed-1/seq-1/\">'\n",
        "# Use regular expression to find all matches\n",
        "# pattern = r'<a href=\"/lccn/sn86072192/1897-.*?>'\n",
        "lccn = ' sn86072192 '\n",
        "year = 1897\n",
        "pattern = r'<a href=\"/lccn/'+ lccn.strip() + '/' + str(year) +'-\\d{2}-\\d{2}/ed-1/seq-\\d+/\">'\n",
        "matches = re.findall(pattern, html_text)\n",
        "\n",
        "# Print all matches\n",
        "for match in matches:\n",
        "    print(match)"
      ]
    },
    {
      "cell_type": "code",
      "source": [
        "def get_word_rate(text, dictionary): # Function to get % of words in text that appear in a dictionary\n",
        "  num_words = 0\n",
        "  for word in text.split():\n",
        "    if word.lower() in dictionary.keys():\n",
        "      num_words += 1\n",
        "\n",
        "  return num_words / len(text.split())"
      ],
      "metadata": {
        "id": "_RkEOJnqfCYI"
      },
      "execution_count": 54,
      "outputs": []
    },
    {
      "cell_type": "code",
      "source": [
        "def chunk_text(text, chunk_size):\n",
        "  chunks = []\n",
        "  words = text.split()\n",
        "  i = 0\n",
        "  while i + chunk_size < len(words):\n",
        "    chunks.append(' '.join(words[i: i + chunk_size]))\n",
        "    i += chunk_size\n",
        "  chunks.append(' '.join(words[i:]))\n",
        "  return chunks"
      ],
      "metadata": {
        "id": "s8o3LsWkf8o_"
      },
      "execution_count": 55,
      "outputs": []
    },
    {
      "cell_type": "code",
      "source": [
        "chunk_size = 200\n",
        "WORD_RATE_THRESHOLD = .6 # Set this to whateve"
      ],
      "metadata": {
        "id": "wPgArd5tf5cn"
      },
      "execution_count": 56,
      "outputs": []
    },
    {
      "cell_type": "code",
      "execution_count": 57,
      "metadata": {
        "id": "nd5S8NnDHQWN"
      },
      "outputs": [],
      "source": [
        "def get_text(lccn, year):\n",
        "    # Fetch the URLs of all issues in the given year\n",
        "    url_data = get_url(lccn, year)\n",
        "    issue_urls = url_data['matches']\n",
        "    head = 'https://chroniclingamerica.loc.gov/'\n",
        "    tail = 'ocr/'\n",
        "    text = ''\n",
        "    score = 0\n",
        "    chunk_number = 0\n",
        "    old_url = head\n",
        "    # Loop through all issue URLs and extract the text\n",
        "    for issue_url in issue_urls:\n",
        "        # Extract the URL from the issues_url variable\n",
        "        url = issue_url.strip('<a href=\"').strip('\">')\n",
        "\n",
        "        # Combine the URL with the head variable to form the full URL\n",
        "        full_url = head + url\n",
        "        response = requests.get(full_url)\n",
        "        html_content = response.text\n",
        "        print(full_url)\n",
        "        # Use regular expression to find all matches\n",
        "        # pattern = r'<a href=\"/lccn/'+ lccn.strip() + '/' + str(year) +'-.*?/ed-1/seq-\\d+/>'\n",
        "        pattern = r'<a href=\"/lccn/'+ lccn.strip() + '/' + str(year) +'-\\d{2}-\\d{2}/ed-1/seq-\\d+/\">'\n",
        "        # r'<a href=\"/lccn/sn86072192/1897-08-22/ed-1/seq-\\d+/'\n",
        "        text_matches = re.findall(pattern, html_content)\n",
        "\n",
        "        for text_url in text_matches:\n",
        "            t_url = text_url.strip('<a href=\"').strip('\">')\n",
        "            ocr_url = head+ t_url + tail\n",
        "            print(ocr_url)\n",
        "            if (ocr_url == old_url):\n",
        "                continue\n",
        "            else:\n",
        "        # Fetch the HTML content of the page with \"ocr\" in the URL\n",
        "        # ocr_url = issue_url.replace('/ed-', '/ocr/ed-')\n",
        "                response = requests.get(ocr_url)\n",
        "                ocr_content = response.text\n",
        "\n",
        "                # Parse the HTML content using BeautifulSoup\n",
        "                soup = BeautifulSoup(ocr_content, 'html.parser')\n",
        "\n",
        "                # Extract the text content of the desired HTML element(s)\n",
        "                \n",
        "                for elem in soup.find_all('div'):\n",
        "                    if elem.find('p') is not None:\n",
        "                        # text += elem.find('p').get_text() + '\\n'\n",
        "                        text = elem.find('p').get_text()\n",
        "                        # print(len(text))\n",
        "                        chunks = chunk_text(text, chunk_size)\n",
        "                        for chunk in chunks:\n",
        "                          rate = get_word_rate(chunk, eng_dictionary)\n",
        "                          #  print(rate)\n",
        "                          if (rate > WORD_RATE_THRESHOLD):\n",
        "                              # print('I am here', chunk)\n",
        "                              # data =sentiment_analysis(chunk)\n",
        "                              # # print(data)\n",
        "                              chunk_number += 1\n",
        "                              # if data[0]['label'] == 'NEGATIVE':\n",
        "                              #     score += -1 * data[0]['score']\n",
        "                              # elif data[0]['label'] == 'POSITIVE':\n",
        "                              #     score += data[0]['score']\n",
        "                        print('current score', score, 'current chunk number', chunk_number)\n",
        "                        # print('ocr url:', ocr_url)\n",
        "                        old_url = ocr_url\n",
        "                        text = ''\n",
        "\n",
        "            \n",
        "\n",
        "                    # print(elem.find('p').get_text())\n",
        "            # Print the extracted text\n",
        "           \n",
        "    return str(score), str(chunk_number)\n"
      ]
    },
    {
      "cell_type": "code",
      "execution_count": 58,
      "metadata": {
        "colab": {
          "base_uri": "https://localhost:8080/",
          "height": 1000
        },
        "id": "-Acy1McR2IEa",
        "outputId": "f072c1a7-e552-437b-8b3b-ad3542b8a1f0"
      },
      "outputs": [
        {
          "output_type": "stream",
          "name": "stdout",
          "text": [
            "LCCN sn85038485 year: 1920\n",
            "https://chroniclingamerica.loc.gov//lccn/sn85038485/1920-01-01/ed-1/\n",
            "https://chroniclingamerica.loc.gov//lccn/sn85038485/1920-01-01/ed-1/seq-1/ocr/\n",
            "current score 0 current chunk number 15\n",
            "https://chroniclingamerica.loc.gov//lccn/sn85038485/1920-01-01/ed-1/seq-1/ocr/\n",
            "https://chroniclingamerica.loc.gov//lccn/sn85038485/1920-01-01/ed-1/seq-2/ocr/\n",
            "current score 0 current chunk number 32\n",
            "https://chroniclingamerica.loc.gov//lccn/sn85038485/1920-01-01/ed-1/seq-2/ocr/\n",
            "https://chroniclingamerica.loc.gov//lccn/sn85038485/1920-01-01/ed-1/seq-3/ocr/\n",
            "current score 0 current chunk number 48\n",
            "https://chroniclingamerica.loc.gov//lccn/sn85038485/1920-01-01/ed-1/seq-3/ocr/\n",
            "https://chroniclingamerica.loc.gov//lccn/sn85038485/1920-01-01/ed-1/seq-4/ocr/\n",
            "current score 0 current chunk number 75\n",
            "https://chroniclingamerica.loc.gov//lccn/sn85038485/1920-01-01/ed-1/seq-4/ocr/\n",
            "https://chroniclingamerica.loc.gov//lccn/sn85038485/1920-01-01/ed-1/seq-5/ocr/\n",
            "current score 0 current chunk number 97\n",
            "https://chroniclingamerica.loc.gov//lccn/sn85038485/1920-01-01/ed-1/seq-5/ocr/\n",
            "https://chroniclingamerica.loc.gov//lccn/sn85038485/1920-01-01/ed-1/seq-6/ocr/\n",
            "current score 0 current chunk number 106\n",
            "https://chroniclingamerica.loc.gov//lccn/sn85038485/1920-01-01/ed-1/seq-6/ocr/\n",
            "https://chroniclingamerica.loc.gov//lccn/sn85038485/1920-01-01/ed-1/seq-7/ocr/\n",
            "current score 0 current chunk number 117\n",
            "https://chroniclingamerica.loc.gov//lccn/sn85038485/1920-01-01/ed-1/seq-7/ocr/\n",
            "https://chroniclingamerica.loc.gov//lccn/sn85038485/1920-01-01/ed-1/seq-8/ocr/\n",
            "current score 0 current chunk number 127\n",
            "https://chroniclingamerica.loc.gov//lccn/sn85038485/1920-01-01/ed-1/seq-8/ocr/\n",
            "https://chroniclingamerica.loc.gov//lccn/sn85038485/1920-01-01/ed-1/seq-9/ocr/\n",
            "current score 0 current chunk number 140\n",
            "https://chroniclingamerica.loc.gov//lccn/sn85038485/1920-01-01/ed-1/seq-9/ocr/\n",
            "https://chroniclingamerica.loc.gov//lccn/sn85038485/1920-01-01/ed-1/seq-10/ocr/\n",
            "current score 0 current chunk number 151\n",
            "https://chroniclingamerica.loc.gov//lccn/sn85038485/1920-01-01/ed-1/seq-10/ocr/\n",
            "https://chroniclingamerica.loc.gov//lccn/sn85038485/1920-01-01/ed-1/seq-11/ocr/\n",
            "current score 0 current chunk number 158\n",
            "https://chroniclingamerica.loc.gov//lccn/sn85038485/1920-01-01/ed-1/seq-11/ocr/\n",
            "https://chroniclingamerica.loc.gov//lccn/sn85038485/1920-01-01/ed-1/seq-12/ocr/\n",
            "current score 0 current chunk number 166\n",
            "https://chroniclingamerica.loc.gov//lccn/sn85038485/1920-01-01/ed-1/seq-12/ocr/\n",
            "https://chroniclingamerica.loc.gov//lccn/sn85038485/1920-01-01/ed-1/seq-13/ocr/\n",
            "current score 0 current chunk number 176\n",
            "https://chroniclingamerica.loc.gov//lccn/sn85038485/1920-01-01/ed-1/seq-13/ocr/\n",
            "https://chroniclingamerica.loc.gov//lccn/sn85038485/1920-01-01/ed-1/seq-14/ocr/\n",
            "current score 0 current chunk number 205\n",
            "https://chroniclingamerica.loc.gov//lccn/sn85038485/1920-01-01/ed-1/seq-14/ocr/\n",
            "https://chroniclingamerica.loc.gov//lccn/sn85038485/1920-01-01/ed-1/seq-15/ocr/\n",
            "current score 0 current chunk number 209\n",
            "https://chroniclingamerica.loc.gov//lccn/sn85038485/1920-01-01/ed-1/seq-15/ocr/\n",
            "https://chroniclingamerica.loc.gov//lccn/sn85038485/1920-01-01/ed-1/seq-16/ocr/\n",
            "current score 0 current chunk number 210\n",
            "https://chroniclingamerica.loc.gov//lccn/sn85038485/1920-01-01/ed-1/seq-16/ocr/\n",
            "https://chroniclingamerica.loc.gov//lccn/sn85038485/1920-01-01/ed-1/seq-17/ocr/\n",
            "current score 0 current chunk number 216\n",
            "https://chroniclingamerica.loc.gov//lccn/sn85038485/1920-01-01/ed-1/seq-17/ocr/\n",
            "https://chroniclingamerica.loc.gov//lccn/sn85038485/1920-01-01/ed-1/seq-18/ocr/\n",
            "current score 0 current chunk number 218\n",
            "https://chroniclingamerica.loc.gov//lccn/sn85038485/1920-01-01/ed-1/seq-18/ocr/\n",
            "https://chroniclingamerica.loc.gov//lccn/sn85038485/1920-01-02/ed-1/\n",
            "https://chroniclingamerica.loc.gov//lccn/sn85038485/1920-01-02/ed-1/seq-1/ocr/\n",
            "current score 0 current chunk number 238\n",
            "https://chroniclingamerica.loc.gov//lccn/sn85038485/1920-01-02/ed-1/seq-1/ocr/\n",
            "https://chroniclingamerica.loc.gov//lccn/sn85038485/1920-01-02/ed-1/seq-2/ocr/\n",
            "current score 0 current chunk number 251\n",
            "https://chroniclingamerica.loc.gov//lccn/sn85038485/1920-01-02/ed-1/seq-2/ocr/\n",
            "https://chroniclingamerica.loc.gov//lccn/sn85038485/1920-01-02/ed-1/seq-3/ocr/\n",
            "current score 0 current chunk number 267\n",
            "https://chroniclingamerica.loc.gov//lccn/sn85038485/1920-01-02/ed-1/seq-3/ocr/\n",
            "https://chroniclingamerica.loc.gov//lccn/sn85038485/1920-01-02/ed-1/seq-4/ocr/\n",
            "current score 0 current chunk number 293\n",
            "https://chroniclingamerica.loc.gov//lccn/sn85038485/1920-01-02/ed-1/seq-4/ocr/\n",
            "https://chroniclingamerica.loc.gov//lccn/sn85038485/1920-01-02/ed-1/seq-5/ocr/\n",
            "current score 0 current chunk number 314\n",
            "https://chroniclingamerica.loc.gov//lccn/sn85038485/1920-01-02/ed-1/seq-5/ocr/\n",
            "https://chroniclingamerica.loc.gov//lccn/sn85038485/1920-01-02/ed-1/seq-6/ocr/\n",
            "current score 0 current chunk number 326\n",
            "https://chroniclingamerica.loc.gov//lccn/sn85038485/1920-01-02/ed-1/seq-6/ocr/\n",
            "https://chroniclingamerica.loc.gov//lccn/sn85038485/1920-01-02/ed-1/seq-7/ocr/\n",
            "current score 0 current chunk number 344\n",
            "https://chroniclingamerica.loc.gov//lccn/sn85038485/1920-01-02/ed-1/seq-7/ocr/\n",
            "https://chroniclingamerica.loc.gov//lccn/sn85038485/1920-01-02/ed-1/seq-8/ocr/\n",
            "current score 0 current chunk number 361\n",
            "https://chroniclingamerica.loc.gov//lccn/sn85038485/1920-01-02/ed-1/seq-8/ocr/\n",
            "https://chroniclingamerica.loc.gov//lccn/sn85038485/1920-01-02/ed-1/seq-9/ocr/\n",
            "current score 0 current chunk number 367\n",
            "https://chroniclingamerica.loc.gov//lccn/sn85038485/1920-01-02/ed-1/seq-9/ocr/\n",
            "https://chroniclingamerica.loc.gov//lccn/sn85038485/1920-01-02/ed-1/seq-10/ocr/\n",
            "current score 0 current chunk number 367\n",
            "https://chroniclingamerica.loc.gov//lccn/sn85038485/1920-01-02/ed-1/seq-10/ocr/\n",
            "https://chroniclingamerica.loc.gov//lccn/sn85038485/1920-01-02/ed-1/seq-11/ocr/\n",
            "current score 0 current chunk number 377\n",
            "https://chroniclingamerica.loc.gov//lccn/sn85038485/1920-01-02/ed-1/seq-11/ocr/\n",
            "https://chroniclingamerica.loc.gov//lccn/sn85038485/1920-01-02/ed-1/seq-12/ocr/\n",
            "current score 0 current chunk number 396\n",
            "https://chroniclingamerica.loc.gov//lccn/sn85038485/1920-01-02/ed-1/seq-12/ocr/\n",
            "https://chroniclingamerica.loc.gov//lccn/sn85038485/1920-01-03/ed-1/\n",
            "https://chroniclingamerica.loc.gov//lccn/sn85038485/1920-01-03/ed-1/seq-1/ocr/\n",
            "current score 0 current chunk number 410\n",
            "https://chroniclingamerica.loc.gov//lccn/sn85038485/1920-01-03/ed-1/seq-1/ocr/\n",
            "https://chroniclingamerica.loc.gov//lccn/sn85038485/1920-01-03/ed-1/seq-2/ocr/\n",
            "current score 0 current chunk number 424\n",
            "https://chroniclingamerica.loc.gov//lccn/sn85038485/1920-01-03/ed-1/seq-2/ocr/\n",
            "https://chroniclingamerica.loc.gov//lccn/sn85038485/1920-01-03/ed-1/seq-3/ocr/\n",
            "current score 0 current chunk number 436\n",
            "https://chroniclingamerica.loc.gov//lccn/sn85038485/1920-01-03/ed-1/seq-3/ocr/\n",
            "https://chroniclingamerica.loc.gov//lccn/sn85038485/1920-01-03/ed-1/seq-4/ocr/\n",
            "current score 0 current chunk number 463\n",
            "https://chroniclingamerica.loc.gov//lccn/sn85038485/1920-01-03/ed-1/seq-4/ocr/\n",
            "https://chroniclingamerica.loc.gov//lccn/sn85038485/1920-01-03/ed-1/seq-5/ocr/\n",
            "current score 0 current chunk number 486\n",
            "https://chroniclingamerica.loc.gov//lccn/sn85038485/1920-01-03/ed-1/seq-5/ocr/\n",
            "https://chroniclingamerica.loc.gov//lccn/sn85038485/1920-01-03/ed-1/seq-6/ocr/\n",
            "current score 0 current chunk number 506\n",
            "https://chroniclingamerica.loc.gov//lccn/sn85038485/1920-01-03/ed-1/seq-6/ocr/\n",
            "https://chroniclingamerica.loc.gov//lccn/sn85038485/1920-01-03/ed-1/seq-7/ocr/\n",
            "current score 0 current chunk number 510\n",
            "https://chroniclingamerica.loc.gov//lccn/sn85038485/1920-01-03/ed-1/seq-7/ocr/\n",
            "https://chroniclingamerica.loc.gov//lccn/sn85038485/1920-01-03/ed-1/seq-8/ocr/\n",
            "current score 0 current chunk number 523\n",
            "https://chroniclingamerica.loc.gov//lccn/sn85038485/1920-01-03/ed-1/seq-8/ocr/\n",
            "https://chroniclingamerica.loc.gov//lccn/sn85038485/1920-01-03/ed-1/seq-9/ocr/\n",
            "current score 0 current chunk number 538\n",
            "https://chroniclingamerica.loc.gov//lccn/sn85038485/1920-01-03/ed-1/seq-9/ocr/\n",
            "https://chroniclingamerica.loc.gov//lccn/sn85038485/1920-01-03/ed-1/seq-10/ocr/\n",
            "current score 0 current chunk number 545\n",
            "https://chroniclingamerica.loc.gov//lccn/sn85038485/1920-01-03/ed-1/seq-10/ocr/\n",
            "https://chroniclingamerica.loc.gov//lccn/sn85038485/1920-01-03/ed-1/seq-11/ocr/\n",
            "current score 0 current chunk number 551\n",
            "https://chroniclingamerica.loc.gov//lccn/sn85038485/1920-01-03/ed-1/seq-11/ocr/\n",
            "https://chroniclingamerica.loc.gov//lccn/sn85038485/1920-01-03/ed-1/seq-12/ocr/\n",
            "current score 0 current chunk number 551\n",
            "https://chroniclingamerica.loc.gov//lccn/sn85038485/1920-01-03/ed-1/seq-12/ocr/\n",
            "https://chroniclingamerica.loc.gov//lccn/sn85038485/1920-01-03/ed-1/seq-13/ocr/\n",
            "current score 0 current chunk number 568\n",
            "https://chroniclingamerica.loc.gov//lccn/sn85038485/1920-01-03/ed-1/seq-13/ocr/\n",
            "https://chroniclingamerica.loc.gov//lccn/sn85038485/1920-01-03/ed-1/seq-14/ocr/\n",
            "current score 0 current chunk number 588\n",
            "https://chroniclingamerica.loc.gov//lccn/sn85038485/1920-01-03/ed-1/seq-14/ocr/\n",
            "https://chroniclingamerica.loc.gov//lccn/sn85038485/1920-01-04/ed-1/\n",
            "https://chroniclingamerica.loc.gov//lccn/sn85038485/1920-01-04/ed-1/seq-1/ocr/\n",
            "current score 0 current chunk number 607\n",
            "https://chroniclingamerica.loc.gov//lccn/sn85038485/1920-01-04/ed-1/seq-1/ocr/\n",
            "https://chroniclingamerica.loc.gov//lccn/sn85038485/1920-01-04/ed-1/seq-2/ocr/\n",
            "current score 0 current chunk number 627\n",
            "https://chroniclingamerica.loc.gov//lccn/sn85038485/1920-01-04/ed-1/seq-2/ocr/\n",
            "https://chroniclingamerica.loc.gov//lccn/sn85038485/1920-01-04/ed-1/seq-3/ocr/\n",
            "current score 0 current chunk number 638\n",
            "https://chroniclingamerica.loc.gov//lccn/sn85038485/1920-01-04/ed-1/seq-3/ocr/\n",
            "https://chroniclingamerica.loc.gov//lccn/sn85038485/1920-01-04/ed-1/seq-4/ocr/\n",
            "current score 0 current chunk number 664\n",
            "https://chroniclingamerica.loc.gov//lccn/sn85038485/1920-01-04/ed-1/seq-4/ocr/\n",
            "https://chroniclingamerica.loc.gov//lccn/sn85038485/1920-01-04/ed-1/seq-5/ocr/\n",
            "current score 0 current chunk number 680\n",
            "https://chroniclingamerica.loc.gov//lccn/sn85038485/1920-01-04/ed-1/seq-5/ocr/\n",
            "https://chroniclingamerica.loc.gov//lccn/sn85038485/1920-01-04/ed-1/seq-6/ocr/\n",
            "current score 0 current chunk number 696\n",
            "https://chroniclingamerica.loc.gov//lccn/sn85038485/1920-01-04/ed-1/seq-6/ocr/\n",
            "https://chroniclingamerica.loc.gov//lccn/sn85038485/1920-01-04/ed-1/seq-7/ocr/\n",
            "current score 0 current chunk number 697\n",
            "https://chroniclingamerica.loc.gov//lccn/sn85038485/1920-01-04/ed-1/seq-7/ocr/\n",
            "https://chroniclingamerica.loc.gov//lccn/sn85038485/1920-01-04/ed-1/seq-8/ocr/\n",
            "current score 0 current chunk number 698\n",
            "https://chroniclingamerica.loc.gov//lccn/sn85038485/1920-01-04/ed-1/seq-8/ocr/\n",
            "https://chroniclingamerica.loc.gov//lccn/sn85038485/1920-01-04/ed-1/seq-9/ocr/\n",
            "current score 0 current chunk number 711\n",
            "https://chroniclingamerica.loc.gov//lccn/sn85038485/1920-01-04/ed-1/seq-9/ocr/\n",
            "https://chroniclingamerica.loc.gov//lccn/sn85038485/1920-01-04/ed-1/seq-10/ocr/\n",
            "current score 0 current chunk number 724\n",
            "https://chroniclingamerica.loc.gov//lccn/sn85038485/1920-01-04/ed-1/seq-10/ocr/\n",
            "https://chroniclingamerica.loc.gov//lccn/sn85038485/1920-01-04/ed-1/seq-11/ocr/\n",
            "current score 0 current chunk number 736\n",
            "https://chroniclingamerica.loc.gov//lccn/sn85038485/1920-01-04/ed-1/seq-11/ocr/\n",
            "https://chroniclingamerica.loc.gov//lccn/sn85038485/1920-01-04/ed-1/seq-12/ocr/\n",
            "current score 0 current chunk number 742\n",
            "https://chroniclingamerica.loc.gov//lccn/sn85038485/1920-01-04/ed-1/seq-12/ocr/\n",
            "https://chroniclingamerica.loc.gov//lccn/sn85038485/1920-01-04/ed-1/seq-13/ocr/\n",
            "current score 0 current chunk number 745\n",
            "https://chroniclingamerica.loc.gov//lccn/sn85038485/1920-01-04/ed-1/seq-13/ocr/\n",
            "https://chroniclingamerica.loc.gov//lccn/sn85038485/1920-01-04/ed-1/seq-14/ocr/\n",
            "current score 0 current chunk number 755\n",
            "https://chroniclingamerica.loc.gov//lccn/sn85038485/1920-01-04/ed-1/seq-14/ocr/\n",
            "https://chroniclingamerica.loc.gov//lccn/sn85038485/1920-01-04/ed-1/seq-15/ocr/\n",
            "current score 0 current chunk number 756\n",
            "https://chroniclingamerica.loc.gov//lccn/sn85038485/1920-01-04/ed-1/seq-15/ocr/\n",
            "https://chroniclingamerica.loc.gov//lccn/sn85038485/1920-01-04/ed-1/seq-16/ocr/\n",
            "current score 0 current chunk number 757\n",
            "https://chroniclingamerica.loc.gov//lccn/sn85038485/1920-01-04/ed-1/seq-16/ocr/\n",
            "https://chroniclingamerica.loc.gov//lccn/sn85038485/1920-01-04/ed-1/seq-17/ocr/\n",
            "current score 0 current chunk number 758\n",
            "https://chroniclingamerica.loc.gov//lccn/sn85038485/1920-01-04/ed-1/seq-17/ocr/\n",
            "https://chroniclingamerica.loc.gov//lccn/sn85038485/1920-01-04/ed-1/seq-18/ocr/\n",
            "current score 0 current chunk number 759\n",
            "https://chroniclingamerica.loc.gov//lccn/sn85038485/1920-01-04/ed-1/seq-18/ocr/\n",
            "https://chroniclingamerica.loc.gov//lccn/sn85038485/1920-01-04/ed-1/seq-19/ocr/\n",
            "current score 0 current chunk number 762\n",
            "https://chroniclingamerica.loc.gov//lccn/sn85038485/1920-01-04/ed-1/seq-19/ocr/\n",
            "https://chroniclingamerica.loc.gov//lccn/sn85038485/1920-01-04/ed-1/seq-20/ocr/\n",
            "current score 0 current chunk number 778\n",
            "https://chroniclingamerica.loc.gov//lccn/sn85038485/1920-01-04/ed-1/seq-20/ocr/\n",
            "https://chroniclingamerica.loc.gov//lccn/sn85038485/1920-01-05/ed-1/\n",
            "https://chroniclingamerica.loc.gov//lccn/sn85038485/1920-01-05/ed-1/seq-1/ocr/\n",
            "current score 0 current chunk number 790\n",
            "https://chroniclingamerica.loc.gov//lccn/sn85038485/1920-01-05/ed-1/seq-1/ocr/\n",
            "https://chroniclingamerica.loc.gov//lccn/sn85038485/1920-01-05/ed-1/seq-2/ocr/\n",
            "current score 0 current chunk number 801\n",
            "https://chroniclingamerica.loc.gov//lccn/sn85038485/1920-01-05/ed-1/seq-2/ocr/\n",
            "https://chroniclingamerica.loc.gov//lccn/sn85038485/1920-01-05/ed-1/seq-3/ocr/\n",
            "current score 0 current chunk number 814\n",
            "https://chroniclingamerica.loc.gov//lccn/sn85038485/1920-01-05/ed-1/seq-3/ocr/\n",
            "https://chroniclingamerica.loc.gov//lccn/sn85038485/1920-01-05/ed-1/seq-4/ocr/\n",
            "current score 0 current chunk number 842\n",
            "https://chroniclingamerica.loc.gov//lccn/sn85038485/1920-01-05/ed-1/seq-4/ocr/\n",
            "https://chroniclingamerica.loc.gov//lccn/sn85038485/1920-01-05/ed-1/seq-5/ocr/\n",
            "current score 0 current chunk number 863\n",
            "https://chroniclingamerica.loc.gov//lccn/sn85038485/1920-01-05/ed-1/seq-5/ocr/\n",
            "https://chroniclingamerica.loc.gov//lccn/sn85038485/1920-01-05/ed-1/seq-6/ocr/\n",
            "current score 0 current chunk number 874\n",
            "https://chroniclingamerica.loc.gov//lccn/sn85038485/1920-01-05/ed-1/seq-6/ocr/\n",
            "https://chroniclingamerica.loc.gov//lccn/sn85038485/1920-01-05/ed-1/seq-7/ocr/\n",
            "current score 0 current chunk number 882\n",
            "https://chroniclingamerica.loc.gov//lccn/sn85038485/1920-01-05/ed-1/seq-7/ocr/\n",
            "https://chroniclingamerica.loc.gov//lccn/sn85038485/1920-01-05/ed-1/seq-8/ocr/\n",
            "current score 0 current chunk number 902\n",
            "https://chroniclingamerica.loc.gov//lccn/sn85038485/1920-01-05/ed-1/seq-8/ocr/\n",
            "https://chroniclingamerica.loc.gov//lccn/sn85038485/1920-01-05/ed-1/seq-9/ocr/\n",
            "current score 0 current chunk number 906\n",
            "https://chroniclingamerica.loc.gov//lccn/sn85038485/1920-01-05/ed-1/seq-9/ocr/\n",
            "https://chroniclingamerica.loc.gov//lccn/sn85038485/1920-01-05/ed-1/seq-10/ocr/\n",
            "current score 0 current chunk number 924\n",
            "https://chroniclingamerica.loc.gov//lccn/sn85038485/1920-01-05/ed-1/seq-10/ocr/\n",
            "https://chroniclingamerica.loc.gov//lccn/sn85038485/1920-01-06/ed-1/\n",
            "https://chroniclingamerica.loc.gov//lccn/sn85038485/1920-01-06/ed-1/seq-1/ocr/\n"
          ]
        },
        {
          "output_type": "error",
          "ename": "KeyboardInterrupt",
          "evalue": "ignored",
          "traceback": [
            "\u001b[0;31m---------------------------------------------------------------------------\u001b[0m",
            "\u001b[0;31mKeyboardInterrupt\u001b[0m                         Traceback (most recent call last)",
            "\u001b[0;32m<ipython-input-58-f67acf389f5b>\u001b[0m in \u001b[0;36m<cell line: 1>\u001b[0;34m()\u001b[0m\n\u001b[0;32m----> 1\u001b[0;31m \u001b[0mscrape_urls\u001b[0m\u001b[0;34m(\u001b[0m\u001b[0mdf_filtered\u001b[0m\u001b[0;34m)\u001b[0m\u001b[0;34m\u001b[0m\u001b[0;34m\u001b[0m\u001b[0m\n\u001b[0m",
            "\u001b[0;32m<ipython-input-52-e529eb7122a0>\u001b[0m in \u001b[0;36mscrape_urls\u001b[0;34m(df_filtered)\u001b[0m\n\u001b[1;32m     25\u001b[0m       \u001b[0;32mif\u001b[0m \u001b[0mint\u001b[0m\u001b[0;34m(\u001b[0m\u001b[0myear\u001b[0m\u001b[0;34m)\u001b[0m \u001b[0;34m>=\u001b[0m \u001b[0;36m1920\u001b[0m \u001b[0;32mand\u001b[0m \u001b[0mint\u001b[0m\u001b[0;34m(\u001b[0m\u001b[0myear\u001b[0m\u001b[0;34m)\u001b[0m \u001b[0;34m<=\u001b[0m \u001b[0;36m1940\u001b[0m\u001b[0;34m:\u001b[0m\u001b[0;34m\u001b[0m\u001b[0;34m\u001b[0m\u001b[0m\n\u001b[1;32m     26\u001b[0m         \u001b[0mprint\u001b[0m\u001b[0;34m(\u001b[0m\u001b[0;34m\"LCCN\"\u001b[0m\u001b[0;34m,\u001b[0m\u001b[0mlccn\u001b[0m\u001b[0;34m,\u001b[0m\u001b[0;34m\"year:\"\u001b[0m\u001b[0;34m,\u001b[0m\u001b[0myear\u001b[0m\u001b[0;34m)\u001b[0m\u001b[0;34m\u001b[0m\u001b[0;34m\u001b[0m\u001b[0m\n\u001b[0;32m---> 27\u001b[0;31m         \u001b[0mtexts_score\u001b[0m \u001b[0;34m=\u001b[0m \u001b[0mget_text\u001b[0m\u001b[0;34m(\u001b[0m\u001b[0mlccn\u001b[0m\u001b[0;34m,\u001b[0m \u001b[0myear\u001b[0m\u001b[0;34m)\u001b[0m\u001b[0;34m\u001b[0m\u001b[0;34m\u001b[0m\u001b[0m\n\u001b[0m\u001b[1;32m     28\u001b[0m         \u001b[0mprint\u001b[0m\u001b[0;34m(\u001b[0m\u001b[0;34m\"LCCN\"\u001b[0m\u001b[0;34m,\u001b[0m\u001b[0mlccn\u001b[0m\u001b[0;34m,\u001b[0m\u001b[0;34m\"year:\"\u001b[0m\u001b[0;34m,\u001b[0m\u001b[0myear\u001b[0m\u001b[0;34m,\u001b[0m \u001b[0;34m'score:'\u001b[0m\u001b[0;34m,\u001b[0m\u001b[0mtexts_score\u001b[0m\u001b[0;34m)\u001b[0m\u001b[0;34m\u001b[0m\u001b[0;34m\u001b[0m\u001b[0m\n\u001b[1;32m     29\u001b[0m         \u001b[0;31m# save_matches_to_file(lccn, year, matches)\u001b[0m\u001b[0;34m\u001b[0m\u001b[0;34m\u001b[0m\u001b[0m\n",
            "\u001b[0;32m<ipython-input-57-99cca03d0ab8>\u001b[0m in \u001b[0;36mget_text\u001b[0;34m(lccn, year)\u001b[0m\n\u001b[1;32m     34\u001b[0m         \u001b[0;31m# Fetch the HTML content of the page with \"ocr\" in the URL\u001b[0m\u001b[0;34m\u001b[0m\u001b[0;34m\u001b[0m\u001b[0m\n\u001b[1;32m     35\u001b[0m         \u001b[0;31m# ocr_url = issue_url.replace('/ed-', '/ocr/ed-')\u001b[0m\u001b[0;34m\u001b[0m\u001b[0;34m\u001b[0m\u001b[0m\n\u001b[0;32m---> 36\u001b[0;31m                 \u001b[0mresponse\u001b[0m \u001b[0;34m=\u001b[0m \u001b[0mrequests\u001b[0m\u001b[0;34m.\u001b[0m\u001b[0mget\u001b[0m\u001b[0;34m(\u001b[0m\u001b[0mocr_url\u001b[0m\u001b[0;34m)\u001b[0m\u001b[0;34m\u001b[0m\u001b[0;34m\u001b[0m\u001b[0m\n\u001b[0m\u001b[1;32m     37\u001b[0m                 \u001b[0mocr_content\u001b[0m \u001b[0;34m=\u001b[0m \u001b[0mresponse\u001b[0m\u001b[0;34m.\u001b[0m\u001b[0mtext\u001b[0m\u001b[0;34m\u001b[0m\u001b[0;34m\u001b[0m\u001b[0m\n\u001b[1;32m     38\u001b[0m \u001b[0;34m\u001b[0m\u001b[0m\n",
            "\u001b[0;32m/usr/local/lib/python3.9/dist-packages/requests/api.py\u001b[0m in \u001b[0;36mget\u001b[0;34m(url, params, **kwargs)\u001b[0m\n\u001b[1;32m     73\u001b[0m     \"\"\"\n\u001b[1;32m     74\u001b[0m \u001b[0;34m\u001b[0m\u001b[0m\n\u001b[0;32m---> 75\u001b[0;31m     \u001b[0;32mreturn\u001b[0m \u001b[0mrequest\u001b[0m\u001b[0;34m(\u001b[0m\u001b[0;34m'get'\u001b[0m\u001b[0;34m,\u001b[0m \u001b[0murl\u001b[0m\u001b[0;34m,\u001b[0m \u001b[0mparams\u001b[0m\u001b[0;34m=\u001b[0m\u001b[0mparams\u001b[0m\u001b[0;34m,\u001b[0m \u001b[0;34m**\u001b[0m\u001b[0mkwargs\u001b[0m\u001b[0;34m)\u001b[0m\u001b[0;34m\u001b[0m\u001b[0;34m\u001b[0m\u001b[0m\n\u001b[0m\u001b[1;32m     76\u001b[0m \u001b[0;34m\u001b[0m\u001b[0m\n\u001b[1;32m     77\u001b[0m \u001b[0;34m\u001b[0m\u001b[0m\n",
            "\u001b[0;32m/usr/local/lib/python3.9/dist-packages/requests/api.py\u001b[0m in \u001b[0;36mrequest\u001b[0;34m(method, url, **kwargs)\u001b[0m\n\u001b[1;32m     59\u001b[0m     \u001b[0;31m# cases, and look like a memory leak in others.\u001b[0m\u001b[0;34m\u001b[0m\u001b[0;34m\u001b[0m\u001b[0m\n\u001b[1;32m     60\u001b[0m     \u001b[0;32mwith\u001b[0m \u001b[0msessions\u001b[0m\u001b[0;34m.\u001b[0m\u001b[0mSession\u001b[0m\u001b[0;34m(\u001b[0m\u001b[0;34m)\u001b[0m \u001b[0;32mas\u001b[0m \u001b[0msession\u001b[0m\u001b[0;34m:\u001b[0m\u001b[0;34m\u001b[0m\u001b[0;34m\u001b[0m\u001b[0m\n\u001b[0;32m---> 61\u001b[0;31m         \u001b[0;32mreturn\u001b[0m \u001b[0msession\u001b[0m\u001b[0;34m.\u001b[0m\u001b[0mrequest\u001b[0m\u001b[0;34m(\u001b[0m\u001b[0mmethod\u001b[0m\u001b[0;34m=\u001b[0m\u001b[0mmethod\u001b[0m\u001b[0;34m,\u001b[0m \u001b[0murl\u001b[0m\u001b[0;34m=\u001b[0m\u001b[0murl\u001b[0m\u001b[0;34m,\u001b[0m \u001b[0;34m**\u001b[0m\u001b[0mkwargs\u001b[0m\u001b[0;34m)\u001b[0m\u001b[0;34m\u001b[0m\u001b[0;34m\u001b[0m\u001b[0m\n\u001b[0m\u001b[1;32m     62\u001b[0m \u001b[0;34m\u001b[0m\u001b[0m\n\u001b[1;32m     63\u001b[0m \u001b[0;34m\u001b[0m\u001b[0m\n",
            "\u001b[0;32m/usr/local/lib/python3.9/dist-packages/requests/sessions.py\u001b[0m in \u001b[0;36mrequest\u001b[0;34m(self, method, url, params, data, headers, cookies, files, auth, timeout, allow_redirects, proxies, hooks, stream, verify, cert, json)\u001b[0m\n\u001b[1;32m    527\u001b[0m         }\n\u001b[1;32m    528\u001b[0m         \u001b[0msend_kwargs\u001b[0m\u001b[0;34m.\u001b[0m\u001b[0mupdate\u001b[0m\u001b[0;34m(\u001b[0m\u001b[0msettings\u001b[0m\u001b[0;34m)\u001b[0m\u001b[0;34m\u001b[0m\u001b[0;34m\u001b[0m\u001b[0m\n\u001b[0;32m--> 529\u001b[0;31m         \u001b[0mresp\u001b[0m \u001b[0;34m=\u001b[0m \u001b[0mself\u001b[0m\u001b[0;34m.\u001b[0m\u001b[0msend\u001b[0m\u001b[0;34m(\u001b[0m\u001b[0mprep\u001b[0m\u001b[0;34m,\u001b[0m \u001b[0;34m**\u001b[0m\u001b[0msend_kwargs\u001b[0m\u001b[0;34m)\u001b[0m\u001b[0;34m\u001b[0m\u001b[0;34m\u001b[0m\u001b[0m\n\u001b[0m\u001b[1;32m    530\u001b[0m \u001b[0;34m\u001b[0m\u001b[0m\n\u001b[1;32m    531\u001b[0m         \u001b[0;32mreturn\u001b[0m \u001b[0mresp\u001b[0m\u001b[0;34m\u001b[0m\u001b[0;34m\u001b[0m\u001b[0m\n",
            "\u001b[0;32m/usr/local/lib/python3.9/dist-packages/requests/sessions.py\u001b[0m in \u001b[0;36msend\u001b[0;34m(self, request, **kwargs)\u001b[0m\n\u001b[1;32m    643\u001b[0m \u001b[0;34m\u001b[0m\u001b[0m\n\u001b[1;32m    644\u001b[0m         \u001b[0;31m# Send the request\u001b[0m\u001b[0;34m\u001b[0m\u001b[0;34m\u001b[0m\u001b[0m\n\u001b[0;32m--> 645\u001b[0;31m         \u001b[0mr\u001b[0m \u001b[0;34m=\u001b[0m \u001b[0madapter\u001b[0m\u001b[0;34m.\u001b[0m\u001b[0msend\u001b[0m\u001b[0;34m(\u001b[0m\u001b[0mrequest\u001b[0m\u001b[0;34m,\u001b[0m \u001b[0;34m**\u001b[0m\u001b[0mkwargs\u001b[0m\u001b[0;34m)\u001b[0m\u001b[0;34m\u001b[0m\u001b[0;34m\u001b[0m\u001b[0m\n\u001b[0m\u001b[1;32m    646\u001b[0m \u001b[0;34m\u001b[0m\u001b[0m\n\u001b[1;32m    647\u001b[0m         \u001b[0;31m# Total elapsed time of the request (approximately)\u001b[0m\u001b[0;34m\u001b[0m\u001b[0;34m\u001b[0m\u001b[0m\n",
            "\u001b[0;32m/usr/local/lib/python3.9/dist-packages/requests/adapters.py\u001b[0m in \u001b[0;36msend\u001b[0;34m(self, request, stream, timeout, verify, cert, proxies)\u001b[0m\n\u001b[1;32m    438\u001b[0m         \u001b[0;32mtry\u001b[0m\u001b[0;34m:\u001b[0m\u001b[0;34m\u001b[0m\u001b[0;34m\u001b[0m\u001b[0m\n\u001b[1;32m    439\u001b[0m             \u001b[0;32mif\u001b[0m \u001b[0;32mnot\u001b[0m \u001b[0mchunked\u001b[0m\u001b[0;34m:\u001b[0m\u001b[0;34m\u001b[0m\u001b[0;34m\u001b[0m\u001b[0m\n\u001b[0;32m--> 440\u001b[0;31m                 resp = conn.urlopen(\n\u001b[0m\u001b[1;32m    441\u001b[0m                     \u001b[0mmethod\u001b[0m\u001b[0;34m=\u001b[0m\u001b[0mrequest\u001b[0m\u001b[0;34m.\u001b[0m\u001b[0mmethod\u001b[0m\u001b[0;34m,\u001b[0m\u001b[0;34m\u001b[0m\u001b[0;34m\u001b[0m\u001b[0m\n\u001b[1;32m    442\u001b[0m                     \u001b[0murl\u001b[0m\u001b[0;34m=\u001b[0m\u001b[0murl\u001b[0m\u001b[0;34m,\u001b[0m\u001b[0;34m\u001b[0m\u001b[0;34m\u001b[0m\u001b[0m\n",
            "\u001b[0;32m/usr/local/lib/python3.9/dist-packages/urllib3/connectionpool.py\u001b[0m in \u001b[0;36murlopen\u001b[0;34m(self, method, url, body, headers, retries, redirect, assert_same_host, timeout, pool_timeout, release_conn, chunked, body_pos, **response_kw)\u001b[0m\n\u001b[1;32m    701\u001b[0m \u001b[0;34m\u001b[0m\u001b[0m\n\u001b[1;32m    702\u001b[0m             \u001b[0;31m# Make the request on the httplib connection object.\u001b[0m\u001b[0;34m\u001b[0m\u001b[0;34m\u001b[0m\u001b[0m\n\u001b[0;32m--> 703\u001b[0;31m             httplib_response = self._make_request(\n\u001b[0m\u001b[1;32m    704\u001b[0m                 \u001b[0mconn\u001b[0m\u001b[0;34m,\u001b[0m\u001b[0;34m\u001b[0m\u001b[0;34m\u001b[0m\u001b[0m\n\u001b[1;32m    705\u001b[0m                 \u001b[0mmethod\u001b[0m\u001b[0;34m,\u001b[0m\u001b[0;34m\u001b[0m\u001b[0;34m\u001b[0m\u001b[0m\n",
            "\u001b[0;32m/usr/local/lib/python3.9/dist-packages/urllib3/connectionpool.py\u001b[0m in \u001b[0;36m_make_request\u001b[0;34m(self, conn, method, url, timeout, chunked, **httplib_request_kw)\u001b[0m\n\u001b[1;32m    447\u001b[0m                     \u001b[0;31m# Python 3 (including for exceptions like SystemExit).\u001b[0m\u001b[0;34m\u001b[0m\u001b[0;34m\u001b[0m\u001b[0m\n\u001b[1;32m    448\u001b[0m                     \u001b[0;31m# Otherwise it looks like a bug in the code.\u001b[0m\u001b[0;34m\u001b[0m\u001b[0;34m\u001b[0m\u001b[0m\n\u001b[0;32m--> 449\u001b[0;31m                     \u001b[0msix\u001b[0m\u001b[0;34m.\u001b[0m\u001b[0mraise_from\u001b[0m\u001b[0;34m(\u001b[0m\u001b[0me\u001b[0m\u001b[0;34m,\u001b[0m \u001b[0;32mNone\u001b[0m\u001b[0;34m)\u001b[0m\u001b[0;34m\u001b[0m\u001b[0;34m\u001b[0m\u001b[0m\n\u001b[0m\u001b[1;32m    450\u001b[0m         \u001b[0;32mexcept\u001b[0m \u001b[0;34m(\u001b[0m\u001b[0mSocketTimeout\u001b[0m\u001b[0;34m,\u001b[0m \u001b[0mBaseSSLError\u001b[0m\u001b[0;34m,\u001b[0m \u001b[0mSocketError\u001b[0m\u001b[0;34m)\u001b[0m \u001b[0;32mas\u001b[0m \u001b[0me\u001b[0m\u001b[0;34m:\u001b[0m\u001b[0;34m\u001b[0m\u001b[0;34m\u001b[0m\u001b[0m\n\u001b[1;32m    451\u001b[0m             \u001b[0mself\u001b[0m\u001b[0;34m.\u001b[0m\u001b[0m_raise_timeout\u001b[0m\u001b[0;34m(\u001b[0m\u001b[0merr\u001b[0m\u001b[0;34m=\u001b[0m\u001b[0me\u001b[0m\u001b[0;34m,\u001b[0m \u001b[0murl\u001b[0m\u001b[0;34m=\u001b[0m\u001b[0murl\u001b[0m\u001b[0;34m,\u001b[0m \u001b[0mtimeout_value\u001b[0m\u001b[0;34m=\u001b[0m\u001b[0mread_timeout\u001b[0m\u001b[0;34m)\u001b[0m\u001b[0;34m\u001b[0m\u001b[0;34m\u001b[0m\u001b[0m\n",
            "\u001b[0;32m/usr/local/lib/python3.9/dist-packages/urllib3/packages/six.py\u001b[0m in \u001b[0;36mraise_from\u001b[0;34m(value, from_value)\u001b[0m\n",
            "\u001b[0;32m/usr/local/lib/python3.9/dist-packages/urllib3/connectionpool.py\u001b[0m in \u001b[0;36m_make_request\u001b[0;34m(self, conn, method, url, timeout, chunked, **httplib_request_kw)\u001b[0m\n\u001b[1;32m    442\u001b[0m                 \u001b[0;31m# Python 3\u001b[0m\u001b[0;34m\u001b[0m\u001b[0;34m\u001b[0m\u001b[0m\n\u001b[1;32m    443\u001b[0m                 \u001b[0;32mtry\u001b[0m\u001b[0;34m:\u001b[0m\u001b[0;34m\u001b[0m\u001b[0;34m\u001b[0m\u001b[0m\n\u001b[0;32m--> 444\u001b[0;31m                     \u001b[0mhttplib_response\u001b[0m \u001b[0;34m=\u001b[0m \u001b[0mconn\u001b[0m\u001b[0;34m.\u001b[0m\u001b[0mgetresponse\u001b[0m\u001b[0;34m(\u001b[0m\u001b[0;34m)\u001b[0m\u001b[0;34m\u001b[0m\u001b[0;34m\u001b[0m\u001b[0m\n\u001b[0m\u001b[1;32m    445\u001b[0m                 \u001b[0;32mexcept\u001b[0m \u001b[0mBaseException\u001b[0m \u001b[0;32mas\u001b[0m \u001b[0me\u001b[0m\u001b[0;34m:\u001b[0m\u001b[0;34m\u001b[0m\u001b[0;34m\u001b[0m\u001b[0m\n\u001b[1;32m    446\u001b[0m                     \u001b[0;31m# Remove the TypeError from the exception chain in\u001b[0m\u001b[0;34m\u001b[0m\u001b[0;34m\u001b[0m\u001b[0m\n",
            "\u001b[0;32m/usr/lib/python3.9/http/client.py\u001b[0m in \u001b[0;36mgetresponse\u001b[0;34m(self)\u001b[0m\n\u001b[1;32m   1375\u001b[0m         \u001b[0;32mtry\u001b[0m\u001b[0;34m:\u001b[0m\u001b[0;34m\u001b[0m\u001b[0;34m\u001b[0m\u001b[0m\n\u001b[1;32m   1376\u001b[0m             \u001b[0;32mtry\u001b[0m\u001b[0;34m:\u001b[0m\u001b[0;34m\u001b[0m\u001b[0;34m\u001b[0m\u001b[0m\n\u001b[0;32m-> 1377\u001b[0;31m                 \u001b[0mresponse\u001b[0m\u001b[0;34m.\u001b[0m\u001b[0mbegin\u001b[0m\u001b[0;34m(\u001b[0m\u001b[0;34m)\u001b[0m\u001b[0;34m\u001b[0m\u001b[0;34m\u001b[0m\u001b[0m\n\u001b[0m\u001b[1;32m   1378\u001b[0m             \u001b[0;32mexcept\u001b[0m \u001b[0mConnectionError\u001b[0m\u001b[0;34m:\u001b[0m\u001b[0;34m\u001b[0m\u001b[0;34m\u001b[0m\u001b[0m\n\u001b[1;32m   1379\u001b[0m                 \u001b[0mself\u001b[0m\u001b[0;34m.\u001b[0m\u001b[0mclose\u001b[0m\u001b[0;34m(\u001b[0m\u001b[0;34m)\u001b[0m\u001b[0;34m\u001b[0m\u001b[0;34m\u001b[0m\u001b[0m\n",
            "\u001b[0;32m/usr/lib/python3.9/http/client.py\u001b[0m in \u001b[0;36mbegin\u001b[0;34m(self)\u001b[0m\n\u001b[1;32m    318\u001b[0m         \u001b[0;31m# read until we get a non-100 response\u001b[0m\u001b[0;34m\u001b[0m\u001b[0;34m\u001b[0m\u001b[0m\n\u001b[1;32m    319\u001b[0m         \u001b[0;32mwhile\u001b[0m \u001b[0;32mTrue\u001b[0m\u001b[0;34m:\u001b[0m\u001b[0;34m\u001b[0m\u001b[0;34m\u001b[0m\u001b[0m\n\u001b[0;32m--> 320\u001b[0;31m             \u001b[0mversion\u001b[0m\u001b[0;34m,\u001b[0m \u001b[0mstatus\u001b[0m\u001b[0;34m,\u001b[0m \u001b[0mreason\u001b[0m \u001b[0;34m=\u001b[0m \u001b[0mself\u001b[0m\u001b[0;34m.\u001b[0m\u001b[0m_read_status\u001b[0m\u001b[0;34m(\u001b[0m\u001b[0;34m)\u001b[0m\u001b[0;34m\u001b[0m\u001b[0;34m\u001b[0m\u001b[0m\n\u001b[0m\u001b[1;32m    321\u001b[0m             \u001b[0;32mif\u001b[0m \u001b[0mstatus\u001b[0m \u001b[0;34m!=\u001b[0m \u001b[0mCONTINUE\u001b[0m\u001b[0;34m:\u001b[0m\u001b[0;34m\u001b[0m\u001b[0;34m\u001b[0m\u001b[0m\n\u001b[1;32m    322\u001b[0m                 \u001b[0;32mbreak\u001b[0m\u001b[0;34m\u001b[0m\u001b[0;34m\u001b[0m\u001b[0m\n",
            "\u001b[0;32m/usr/lib/python3.9/http/client.py\u001b[0m in \u001b[0;36m_read_status\u001b[0;34m(self)\u001b[0m\n\u001b[1;32m    279\u001b[0m \u001b[0;34m\u001b[0m\u001b[0m\n\u001b[1;32m    280\u001b[0m     \u001b[0;32mdef\u001b[0m \u001b[0m_read_status\u001b[0m\u001b[0;34m(\u001b[0m\u001b[0mself\u001b[0m\u001b[0;34m)\u001b[0m\u001b[0;34m:\u001b[0m\u001b[0;34m\u001b[0m\u001b[0;34m\u001b[0m\u001b[0m\n\u001b[0;32m--> 281\u001b[0;31m         \u001b[0mline\u001b[0m \u001b[0;34m=\u001b[0m \u001b[0mstr\u001b[0m\u001b[0;34m(\u001b[0m\u001b[0mself\u001b[0m\u001b[0;34m.\u001b[0m\u001b[0mfp\u001b[0m\u001b[0;34m.\u001b[0m\u001b[0mreadline\u001b[0m\u001b[0;34m(\u001b[0m\u001b[0m_MAXLINE\u001b[0m \u001b[0;34m+\u001b[0m \u001b[0;36m1\u001b[0m\u001b[0;34m)\u001b[0m\u001b[0;34m,\u001b[0m \u001b[0;34m\"iso-8859-1\"\u001b[0m\u001b[0;34m)\u001b[0m\u001b[0;34m\u001b[0m\u001b[0;34m\u001b[0m\u001b[0m\n\u001b[0m\u001b[1;32m    282\u001b[0m         \u001b[0;32mif\u001b[0m \u001b[0mlen\u001b[0m\u001b[0;34m(\u001b[0m\u001b[0mline\u001b[0m\u001b[0;34m)\u001b[0m \u001b[0;34m>\u001b[0m \u001b[0m_MAXLINE\u001b[0m\u001b[0;34m:\u001b[0m\u001b[0;34m\u001b[0m\u001b[0;34m\u001b[0m\u001b[0m\n\u001b[1;32m    283\u001b[0m             \u001b[0;32mraise\u001b[0m \u001b[0mLineTooLong\u001b[0m\u001b[0;34m(\u001b[0m\u001b[0;34m\"status line\"\u001b[0m\u001b[0;34m)\u001b[0m\u001b[0;34m\u001b[0m\u001b[0;34m\u001b[0m\u001b[0m\n",
            "\u001b[0;32m/usr/lib/python3.9/socket.py\u001b[0m in \u001b[0;36mreadinto\u001b[0;34m(self, b)\u001b[0m\n\u001b[1;32m    702\u001b[0m         \u001b[0;32mwhile\u001b[0m \u001b[0;32mTrue\u001b[0m\u001b[0;34m:\u001b[0m\u001b[0;34m\u001b[0m\u001b[0;34m\u001b[0m\u001b[0m\n\u001b[1;32m    703\u001b[0m             \u001b[0;32mtry\u001b[0m\u001b[0;34m:\u001b[0m\u001b[0;34m\u001b[0m\u001b[0;34m\u001b[0m\u001b[0m\n\u001b[0;32m--> 704\u001b[0;31m                 \u001b[0;32mreturn\u001b[0m \u001b[0mself\u001b[0m\u001b[0;34m.\u001b[0m\u001b[0m_sock\u001b[0m\u001b[0;34m.\u001b[0m\u001b[0mrecv_into\u001b[0m\u001b[0;34m(\u001b[0m\u001b[0mb\u001b[0m\u001b[0;34m)\u001b[0m\u001b[0;34m\u001b[0m\u001b[0;34m\u001b[0m\u001b[0m\n\u001b[0m\u001b[1;32m    705\u001b[0m             \u001b[0;32mexcept\u001b[0m \u001b[0mtimeout\u001b[0m\u001b[0;34m:\u001b[0m\u001b[0;34m\u001b[0m\u001b[0;34m\u001b[0m\u001b[0m\n\u001b[1;32m    706\u001b[0m                 \u001b[0mself\u001b[0m\u001b[0;34m.\u001b[0m\u001b[0m_timeout_occurred\u001b[0m \u001b[0;34m=\u001b[0m \u001b[0;32mTrue\u001b[0m\u001b[0;34m\u001b[0m\u001b[0;34m\u001b[0m\u001b[0m\n",
            "\u001b[0;32m/usr/lib/python3.9/ssl.py\u001b[0m in \u001b[0;36mrecv_into\u001b[0;34m(self, buffer, nbytes, flags)\u001b[0m\n\u001b[1;32m   1240\u001b[0m                   \u001b[0;34m\"non-zero flags not allowed in calls to recv_into() on %s\"\u001b[0m \u001b[0;34m%\u001b[0m\u001b[0;34m\u001b[0m\u001b[0;34m\u001b[0m\u001b[0m\n\u001b[1;32m   1241\u001b[0m                   self.__class__)\n\u001b[0;32m-> 1242\u001b[0;31m             \u001b[0;32mreturn\u001b[0m \u001b[0mself\u001b[0m\u001b[0;34m.\u001b[0m\u001b[0mread\u001b[0m\u001b[0;34m(\u001b[0m\u001b[0mnbytes\u001b[0m\u001b[0;34m,\u001b[0m \u001b[0mbuffer\u001b[0m\u001b[0;34m)\u001b[0m\u001b[0;34m\u001b[0m\u001b[0;34m\u001b[0m\u001b[0m\n\u001b[0m\u001b[1;32m   1243\u001b[0m         \u001b[0;32melse\u001b[0m\u001b[0;34m:\u001b[0m\u001b[0;34m\u001b[0m\u001b[0;34m\u001b[0m\u001b[0m\n\u001b[1;32m   1244\u001b[0m             \u001b[0;32mreturn\u001b[0m \u001b[0msuper\u001b[0m\u001b[0;34m(\u001b[0m\u001b[0;34m)\u001b[0m\u001b[0;34m.\u001b[0m\u001b[0mrecv_into\u001b[0m\u001b[0;34m(\u001b[0m\u001b[0mbuffer\u001b[0m\u001b[0;34m,\u001b[0m \u001b[0mnbytes\u001b[0m\u001b[0;34m,\u001b[0m \u001b[0mflags\u001b[0m\u001b[0;34m)\u001b[0m\u001b[0;34m\u001b[0m\u001b[0;34m\u001b[0m\u001b[0m\n",
            "\u001b[0;32m/usr/lib/python3.9/ssl.py\u001b[0m in \u001b[0;36mread\u001b[0;34m(self, len, buffer)\u001b[0m\n\u001b[1;32m   1098\u001b[0m         \u001b[0;32mtry\u001b[0m\u001b[0;34m:\u001b[0m\u001b[0;34m\u001b[0m\u001b[0;34m\u001b[0m\u001b[0m\n\u001b[1;32m   1099\u001b[0m             \u001b[0;32mif\u001b[0m \u001b[0mbuffer\u001b[0m \u001b[0;32mis\u001b[0m \u001b[0;32mnot\u001b[0m \u001b[0;32mNone\u001b[0m\u001b[0;34m:\u001b[0m\u001b[0;34m\u001b[0m\u001b[0;34m\u001b[0m\u001b[0m\n\u001b[0;32m-> 1100\u001b[0;31m                 \u001b[0;32mreturn\u001b[0m \u001b[0mself\u001b[0m\u001b[0;34m.\u001b[0m\u001b[0m_sslobj\u001b[0m\u001b[0;34m.\u001b[0m\u001b[0mread\u001b[0m\u001b[0;34m(\u001b[0m\u001b[0mlen\u001b[0m\u001b[0;34m,\u001b[0m \u001b[0mbuffer\u001b[0m\u001b[0;34m)\u001b[0m\u001b[0;34m\u001b[0m\u001b[0;34m\u001b[0m\u001b[0m\n\u001b[0m\u001b[1;32m   1101\u001b[0m             \u001b[0;32melse\u001b[0m\u001b[0;34m:\u001b[0m\u001b[0;34m\u001b[0m\u001b[0;34m\u001b[0m\u001b[0m\n\u001b[1;32m   1102\u001b[0m                 \u001b[0;32mreturn\u001b[0m \u001b[0mself\u001b[0m\u001b[0;34m.\u001b[0m\u001b[0m_sslobj\u001b[0m\u001b[0;34m.\u001b[0m\u001b[0mread\u001b[0m\u001b[0;34m(\u001b[0m\u001b[0mlen\u001b[0m\u001b[0;34m)\u001b[0m\u001b[0;34m\u001b[0m\u001b[0;34m\u001b[0m\u001b[0m\n",
            "\u001b[0;31mKeyboardInterrupt\u001b[0m: "
          ]
        }
      ],
      "source": [
        "scrape_urls(df_filtered)"
      ]
    },
    {
      "cell_type": "code",
      "execution_count": null,
      "metadata": {
        "id": "XQZnwbTF2IMw"
      },
      "outputs": [],
      "source": [
        "xxx = \"I am here OESEEi THE AGE-HERALD.. J1 , _ . ..., __'__ _ _ _ _ V ||VOLUME 23_ BIRMINGHAM, ALA., SUNDAY, AUGUST 1, 1897.-SIXTEEN PAGES- NUMBER 167GREAT BRITAINIS SATISFIEDAt the Prospective Settlement ol theSeal Question.SPAIN MUST RESORT TO WARIn the Event the United States InterleresIn Cuban Altairs.HER FINANCES AT A LOW EBB,Ar.d the Struggle Can Only Bp Kept lip WhileHer Funds Last—Death Before DishonorIs the Castilian Slogan—AmericanMonopolists Denounced.London, July si.—Much satisfaction Isexpressed in official and mercantile circles at the prospective settlement of tiieseal question by aid of the Washingtonconference, especially a* such an strangement will remove ihe cause of irritationbetween the United States and GreatBritain. On the proposal of Mr. Foster';;Journey diplomats ridiculed the idea thatthere was anything necessary to ho done.Ambassador Hay and Mr. Foster havecompletely changed this idea and GreatBritain is doing everything possible tomeet the views of the United .States.Doubtless tills; is partly owing to thesupport Mr. Foster’s idea received fromRussia and Canada. Sir Wilfred Laurier and Mr. Davies have all along favored a conciliatory attitude P ward theproposals of the United States. Theconference will meet in Ihe third orfourth week in October, the exact dalebeing left to be determined by the arrivalof the British experts from the scalinggrounds. Great Britain will be repr- -Ken ted by Sir Julian Pauncefote, the ambassador. and Prof. Darcy Thompson,the United States will probably L>. represented by John W. Foster, Japan bythe Japanese minister at Washington,and Russia by a commission headed byDr. Martens, professor of internationallaw at the University of St. Petersbuig,who was delegated by Russia to hold thepour parleur with Mr. Foster. Canadawill he represented by Sir Wilfred Laurlei and Mr. Davies.The conference will discuss the wholequestion as raised by the United States;will draft a plan of protection for theseals with details of the same, and will' decide all open claims. Us report willhe ad referendum, but Russia and Japanare entirely favorable to the pie-lcn.-ionsof the United States and as Great Britainis indifferent so’ long as Canada is satisfied the conf rencB may be said to bea diplomatic triumph for the Unit dSlates and a- pel.-ona 1 triumph for Mr, :Foster. Unless it results in a dividedreport, which is not expected, the g vernments concerned will embody thestatement in a permanent agreement inthe form of a convention or me., qrandumso it can he executed in the srasua of1S99.A Spanish diplomatist who is in clo etouch with Senor Canovas d -1 Castillo,th Spanish premier. Informs the correspondent of the As- elated Press t'haa itis useless to longer disguise the fact thatthe Spanish ministry is in a very t giit jplace.He says: 'We can keep up the wa in ICuba only’ so long as our funds lust and jthe time when they will fdil is almm. insight. When it comes we must give upthe struggle. Now we are too prouu a jrace to do scat any one’s bidding, hut we ,can do so by p.eading force 'lintjuiv ina war with the United States. Such a result qptuially would lo- very u-np.cas.uitto us, but in order to ptvvciit a revolution in Spain and th'- overthrow e>i ihemottatoay wdi is the only way out.• ihe premier knows fiom 1 resident McKinley direct thait the pr -s.deiit p r. onally does not want war. and w.sr.es lo waveus from the cost and biixidwiied, but hiscabinet omy partly share his views, whilethe senate, the house of represei.'talives,■the American press and Che people of ilieUnited States favor a seu'tlemenl Willi biggluts,'President McKinley, however, while atfirst for peace, hae declare! htiueeil aw 1not shrinking from war if peace measure sfail. This is his position and naturally ilends strength to th. independent course |which Gen. Woodford win pursue. Ills 'ire iructions will be at 'ihe outset lo a.t- jtempt to secure for Cuba a peacefulmeins of Cuban lnd. pendenoe. lie is |destined to be defeated in his proposal,the moment it is made, fur Spain w midindefinitely prefer war without the en- icouragemen, of other meltons to any surren. r on the Cuban question. This .sth. facts and th' premier set s no way of .remaining Impassive in the present stale jof* Spanish polities. He will court warthe momer.it the United States becomesimperative in its d m..in.lw. Th. way ofgival emotion and p .til tlsm such as warwould create in Spain would naturallysink all threatening donr stki questions jand disturbances. The. Carl Lots, r publicans and all others would unite for thenation as they could be united by nothingel.-e and when defeated, if Spain shap'dbe defeat d, Cuba cou'd be surrenderedwithout imperilling all present politicalan! monarchial institutions.”The engineers’ dispute lias apparently jsettled down to a prolonged struggle. |Both masters and men are unyielding.Tha former’s position tins been strengthened by the fact that the Northampton ;Cycle employers havr l ined the Kmp'oy- .ers’ Federation and Issued lockout notices to iifi per cent, nf their employ es. Theengineers have responded by calling outthe other 75 per cent.. The masters helda meeting on Wednesday ard declaredthey were mere than ever determined toresist the action of the engineer*. It isalso announced, on the contrary, by trade,union statements, not signed, that a;member of the Kmployers’ Federationin ijhe ytjlhlty of London had yielded tothe'dnqiaud for an eight hour day.The Spectator, in a gloomy article, entitled 'Aggre.sl ns of American Wealth,’’referB to the retirement of President Andrews from Brown university and Prof.Bemls, from Chicago university, saying:Wa cun scarcely escape Ihe coiiclu- 1slon that a conspiracy exists among thevarious trusts In America to interferewith the freedom of teaching In theuniversities, so far as economic questions are concerned. in order that nothingshall be uttered which has not receivedthe trade mark of monopolist approval.'The paper pictures the Americans asreduced almost to the situation of Russia by the censorship of wealthy magnates ov-r the universities and says:'Capitalists have subsidized the pulpits. bought up the press, seated wellpaid attorneys in the senate and finallyhave Stretched th tr hands out to thecolleges which it is an easy thing to capture by such generosity as Mr. Rockefeller's. Apnnrt-ntly it i» their intentionto culvert til? Unit' il States ittin a powerful oligarchy and they will i xtend thesway rf that oligarchy to other land*when they can.'Stephen Crane has announced that helikes England so well that h ■ will make' London his home. Mr. Crane's bookshave found their greatest vogue in thiscountry and he is receiving considerable attention in literary clrcl s here.DOINGSOF AN INSANE MAN,'Interests Himself In Flanagan and EmploysCcunstI to Defend an Imaginary CriminalAtlanta, Ga„ July i!1.—J. L. Moyse,repro nting hlrne-lf to be of the Arm ofLloyd. Moyse & West, attorn ys, of NewYork, appeared here Monday and sp.-ntthe morning as a spectator of the famousFlanagan, murder case, in which the d -fen.se was insanity. In the afternoonMoyne approached Col. W. C. GI nil,leading counsel for Fin agon, and introduced him*, if. saying h had come to employ Glenr.v to aid him in the defense of anotable murder case at Home, Ga. Hesaid he had then sent to Georgia by theCrescent lire wing company to defend H.L. Matthews, having been an. agent of thebrewing company, the company had putup unlimited money to defray the exporises of the defense. He went into thedetails of the crime and the law in thecase in a very intelligent manner amiended by employing Col. Glenn for a feeof SI,000 to aid in defending the pr soner.Sine - that time be has been a spectatorat the Flanagan trial, watching with absorbed Interest the highly irttepesting deft.,ns-j of Flanagan, which was based uponthe defendant’s affliction with paranoia.On the strength of -his h-avi g engag'dCol. Glenn in the Mathews case Moyseassisted in the-defers.' of Flanagan andmade a most valuable aid, showing himBelf to be an expert in ail matter pertaining to mental derangements. The caseof Flanagan was concluded today andthis afternoon a conference was held atCol. Glenn\"\n",
        "print(len(xxx))"
      ]
    }
  ],
  "metadata": {
    "colab": {
      "provenance": [],
      "include_colab_link": true
    },
    "kernelspec": {
      "display_name": "Python 3",
      "name": "python3"
    },
    "language_info": {
      "name": "python"
    },
    "gpuClass": "standard"
  },
  "nbformat": 4,
  "nbformat_minor": 0
}